{
 "cells": [
  {
   "cell_type": "markdown",
   "metadata": {},
   "source": [
    "# Task 1: Create a Prescription Parser using CRF\n",
    "This task tests your ability to build a Doctor Prescription Parser with the help of CRF model\n",
    "\n",
    "Your job is to build a Prescription Parser that takes a prescription (sentence) as an input and find / label the words in that sentence with one of the already pre-defined labels\n",
    "\n",
    "### Problem: SEQUENCE PREDICTION - Label words in a sentence\n",
    "#### Input : Doctor Prescription in the form of a sentence split into tokens\n",
    "- Ex: Take 2 tablets once a day for 10 days\n",
    "\n",
    "#### Output : FHIR Labels\n",
    "- ('Take', 'Method')\n",
    "- ('2', 'Qty') \n",
    "- ('tablets', 'Form')\n",
    "- ('once', 'Frequency')\n",
    "- ('a', 'Period') \n",
    "- ('day', 'PeriodUnit')\n",
    "- ('for', 'FOR')\n",
    "- ('10', 'Duration')\n",
    "- ('days', 'DurationUnit') "
   ]
  },
  {
   "cell_type": "markdown",
   "metadata": {},
   "source": [
    "### Major Steps\n",
    "- Install necessary library\n",
    "- Import the libraries\n",
    "- Create training data with labels\n",
    "    - Split the sentence into tokens\n",
    "    - Compute POS tags\n",
    "    - Create triples\n",
    "- Extract features\n",
    "- Split the data into training and testing set\n",
    "- Create CRF model\n",
    "- Save the CRF model\n",
    "- Load the CRF model\n",
    "- Predict on test data\n",
    "- Accuracy"
   ]
  },
  {
   "cell_type": "markdown",
   "metadata": {},
   "source": [
    "#### Install necesaary library"
   ]
  },
  {
   "cell_type": "code",
   "execution_count": 1,
   "metadata": {},
   "outputs": [],
   "source": [
    "# !pip install python-crfsuite\n",
    "# !pip install sklearn_crfsuite"
   ]
  },
  {
   "cell_type": "markdown",
   "metadata": {},
   "source": [
    "#### Import the necessary libraries"
   ]
  },
  {
   "cell_type": "code",
   "execution_count": 2,
   "metadata": {},
   "outputs": [],
   "source": [
    "# Import libraries\n",
    "import nltk\n",
    "import sklearn_crfsuite\n",
    "from sklearn.metrics import make_scorer, confusion_matrix, f1_score, classification_report\n",
    "from sklearn.model_selection import cross_val_score\n",
    "from sklearn.pipeline import Pipeline\n",
    "from nltk.tag import pos_tag\n",
    "from pprint import pprint\n",
    "import string\n",
    "from sklearn.model_selection import train_test_split\n",
    "import pycrfsuite\n",
    "from sklearn.metrics import classification_report\n",
    "from itertools import chain"
   ]
  },
  {
   "cell_type": "markdown",
   "metadata": {},
   "source": [
    "### Input data (GIVEN)\n",
    "#### Creating the inputs to the ML model in the following form:\n",
    "- sigs --> ['take 3 tabs for 10 days']       INPUT SIG\n",
    "- input_sigs --> [['take', '3', 'tabs', 'for', '10', 'days']]      TOKENS\n",
    "- output_labels --> [['Method','Qty', 'Form', 'FOR', 'Duration', 'DurationUnit']]       LABELS"
   ]
  },
  {
   "cell_type": "code",
   "execution_count": 3,
   "metadata": {},
   "outputs": [],
   "source": [
    "sigs = [\"for 5 to 6 days\", \"inject 2 units\", \"x 2 weeks\", \"x 3 days\", \"every day\", \"every 2 weeks\", \"every 3 days\", \"every 1 to 2 months\", \"every 2 to 6 weeks\", \"every 4 to 6 days\", \"take two to four tabs\", \"take 2 to 4 tabs\", \"take 3 tabs orally bid for 10 days at bedtime\", \"swallow three capsules tid orally\", \"take 2 capsules po every 6 hours\", \"take 2 tabs po for 10 days\", \"take 100 caps by mouth tid for 10 weeks\", \"take 2 tabs after an hour\", \"2 tabs every 4-6 hours\", \"every 4 to 6 hours\", \"q46h\", \"q4-6h\", \"2 hours before breakfast\", \"before 30 mins at bedtime\", \"30 mins before bed\", \"and 100 tabs twice a month\", \"100 tabs twice a month\", \"100 tabs once a month\", \"100 tabs thrice a month\", \"3 tabs daily for 3 days then 1 tab per day at bed\", \"30 tabs 10 days tid\", \"take 30 tabs for 10 days three times a day\", \"qid q6h\", \"bid\", \"qid\", \"30 tabs before dinner and bedtime\", \"30 tabs before dinner & bedtime\", \"take 3 tabs at bedtime\", \"30 tabs thrice daily for 10 days \", \"30 tabs for 10 days three times a day\", \"Take 2 tablets a day\", \"qid for 10 days\", \"every day\", \"take 2 caps at bedtime\", \"apply 3 drops before bedtime\", \"take three capsules daily\", \"swallow 3 pills once a day\", \"swallow three pills thrice a day\", \"apply daily\", \"apply three drops before bedtime\", \"every 6 hours\", \"before food\", \"after food\", \"for 20 days\", \"for twenty days\", \"with meals\"]\n",
    "input_sigs = [['for', '5', 'to', '6', 'days'], ['inject', '2', 'units'], ['x', '2', 'weeks'], ['x', '3', 'days'], ['every', 'day'], ['every', '2', 'weeks'], ['every', '3', 'days'], ['every', '1', 'to', '2', 'months'], ['every', '2', 'to', '6', 'weeks'], ['every', '4', 'to', '6', 'days'], ['take', 'two', 'to', 'four', 'tabs'], ['take', '2', 'to', '4', 'tabs'], ['take', '3', 'tabs', 'orally', 'bid', 'for', '10', 'days', 'at', 'bedtime'], ['swallow', 'three', 'capsules', 'tid', 'orally'], ['take', '2', 'capsules', 'po', 'every', '6', 'hours'], ['take', '2', 'tabs', 'po', 'for', '10', 'days'], ['take', '100', 'caps', 'by', 'mouth', 'tid', 'for', '10', 'weeks'], ['take', '2', 'tabs', 'after', 'an', 'hour'], ['2', 'tabs', 'every', '4-6', 'hours'], ['every', '4', 'to', '6', 'hours'], ['q46h'], ['q4-6h'], ['2', 'hours', 'before', 'breakfast'], ['before', '30', 'mins', 'at', 'bedtime'], ['30', 'mins', 'before', 'bed'], ['and', '100', 'tabs', 'twice', 'a', 'month'], ['100', 'tabs', 'twice', 'a', 'month'], ['100', 'tabs', 'once', 'a', 'month'], ['100', 'tabs', 'thrice', 'a', 'month'], ['3', 'tabs', 'daily', 'for', '3', 'days', 'then', '1', 'tab', 'per', 'day', 'at', 'bed'], ['30', 'tabs', '10', 'days', 'tid'], ['take', '30', 'tabs', 'for', '10', 'days', 'three', 'times', 'a', 'day'], ['qid', 'q6h'], ['bid'], ['qid'], ['30', 'tabs', 'before', 'dinner', 'and', 'bedtime'], ['30', 'tabs', 'before', 'dinner', '&', 'bedtime'], ['take', '3', 'tabs', 'at', 'bedtime'], ['30', 'tabs', 'thrice', 'daily', 'for', '10', 'days'], ['30', 'tabs', 'for', '10', 'days', 'three', 'times', 'a', 'day'], ['take', '2', 'tablets', 'a', 'day'], ['qid', 'for', '10', 'days'], ['every', 'day'], ['take', '2', 'caps', 'at', 'bedtime'], ['apply', '3', 'drops', 'before', 'bedtime'], ['take', 'three', 'capsules', 'daily'], ['swallow', '3', 'pills', 'once', 'a', 'day'], ['swallow', 'three', 'pills', 'thrice', 'a', 'day'], ['apply', 'daily'], ['apply', 'three', 'drops', 'before', 'bedtime'], ['every', '6', 'hours'], ['before', 'food'], ['after', 'food'], ['for', '20', 'days'], ['for', 'twenty', 'days'], ['with', 'meals']]\n",
    "output_labels = [['FOR', 'Duration', 'TO', 'DurationMax', 'DurationUnit'], ['Method', 'Qty', 'Form'], ['FOR', 'Duration', 'DurationUnit'], ['FOR', 'Duration', 'DurationUnit'], ['EVERY', 'Period'], ['EVERY', 'Period', 'PeriodUnit'], ['EVERY', 'Period', 'PeriodUnit'], ['EVERY', 'Period', 'TO', 'PeriodMax', 'PeriodUnit'], ['EVERY', 'Period', 'TO', 'PeriodMax', 'PeriodUnit'], ['EVERY', 'Period', 'TO', 'PeriodMax', 'PeriodUnit'], ['Method', 'Qty', 'TO', 'Qty', 'Form'], ['Method', 'Qty', 'TO', 'Qty', 'Form'], ['Method', 'Qty', 'Form', 'PO', 'BID', 'FOR', 'Duration', 'DurationUnit', 'AT', 'WHEN'], ['Method', 'Qty', 'Form', 'TID', 'PO'], ['Method', 'Qty', 'Form', 'PO', 'EVERY', 'Period', 'PeriodUnit'], ['Method', 'Qty', 'Form', 'PO', 'FOR', 'Duration', 'DurationUnit'], ['Method', 'Qty', 'Form', 'BY', 'PO', 'TID', 'FOR', 'Duration', 'DurationUnit'], ['Method', 'Qty', 'Form', 'AFTER', 'Period', 'PeriodUnit'], ['Qty', 'Form', 'EVERY', 'Period', 'PeriodUnit'], ['EVERY', 'Period', 'TO', 'PeriodMax', 'PeriodUnit'], ['Q46H'], ['Q4-6H'], ['Qty', 'PeriodUnit', 'BEFORE', 'WHEN'], ['BEFORE', 'Qty', 'M', 'AT', 'WHEN'], ['Qty', 'M', 'BEFORE', 'WHEN'], ['AND', 'Qty', 'Form', 'Frequency', 'Period', 'PeriodUnit'], ['Qty', 'Form', 'Frequency', 'Period', 'PeriodUnit'], ['Qty', 'Form', 'Frequency', 'Period', 'PeriodUnit'], ['Qty', 'Form', 'Frequency', 'Period', 'PeriodUnit'], ['Qty', 'Form', 'Frequency', 'FOR', 'Duration', 'DurationUnit', 'THEN', 'Qty', 'Form', 'Frequency', 'PeriodUnit', 'AT', 'WHEN'], ['Qty', 'Form', 'Duration', 'DurationUnit', 'TID'], ['Method', 'Qty', 'Form', 'FOR', 'Duration', 'DurationUnit', 'Qty', 'TIMES', 'Period', 'PeriodUnit'], ['QID', 'Q6H'], ['BID'], ['QID'],['Qty', 'Form', 'BEFORE', 'WHEN', 'AND', 'WHEN'], ['Qty', 'Form', 'BEFORE', 'WHEN', 'AND', 'WHEN'], ['Method', 'Qty', 'Form', 'AT', 'WHEN'], ['Qty', 'Form', 'Frequency', 'DAILY', 'FOR', 'Duration', 'DurationUnit'], ['Qty', 'Form', 'FOR', 'Duration', 'DurationUnit', 'Frequency', 'TIMES', 'Period', 'PeriodUnit'], ['Method', 'Qty', 'Form', 'Period', 'PeriodUnit'], ['QID', 'FOR', 'Duration', 'DurationUnit'], ['EVERY', 'PeriodUnit'], ['Method', 'Qty', 'Form', 'AT', 'WHEN'], ['Method', 'Qty', 'Form', 'BEFORE', 'WHEN'], ['Method', 'Qty', 'Form', 'DAILY'], ['Method', 'Qty', 'Form', 'Frequency', 'Period', 'PeriodUnit'], ['Method', 'Qty', 'Form', 'Frequency', 'Period', 'PeriodUnit'], ['Method', 'DAILY'], ['Method', 'Qty', 'Form', 'BEFORE', 'WHEN'], ['EVERY', 'Period', 'PeriodUnit'], ['BEFORE', 'FOOD'], ['AFTER', 'FOOD'], ['FOR', 'Duration', 'DurationUnit'], ['FOR', 'Duration', 'DurationUnit'], ['WITH', 'FOOD']]"
   ]
  },
  {
   "cell_type": "code",
   "execution_count": 4,
   "metadata": {},
   "outputs": [
    {
     "data": {
      "text/plain": [
       "(56, 56, 56)"
      ]
     },
     "execution_count": 4,
     "metadata": {},
     "output_type": "execute_result"
    }
   ],
   "source": [
    "len(sigs), len(input_sigs) , len(output_labels)"
   ]
  },
  {
   "cell_type": "markdown",
   "metadata": {},
   "source": [
    "### Creating a Tuples Maker method\n",
    "Create the tuples as given below by writing a function **tuples_maker(input_sigs, output_labels)** and returns **output** as given below\n",
    "\n",
    "Input(s): \n",
    "- input_sigs\n",
    "- output_lables\n",
    "\n",
    "Output:\n",
    "\n",
    "[[('for', 'FOR'),\n",
    "  ('5', 'Duration'),\n",
    "  ('to', 'TO'),\n",
    "  ('6', 'DurationMax'),\n",
    "  ('days', 'DurationUnit')], [second sentence], ...]"
   ]
  },
  {
   "cell_type": "code",
   "execution_count": 5,
   "metadata": {},
   "outputs": [],
   "source": [
    "def tuples_maker(input_sigs, output_labels):\n",
    "    sample_data = []\n",
    "    for tokens, labels in zip(input_sigs, output_labels):\n",
    "        tuple_data = list(zip(tokens, labels))\n",
    "        sample_data.append(tuple_data)\n",
    "    return sample_data\n",
    "\n",
    "result = tuples_maker(input_sigs, output_labels)"
   ]
  },
  {
   "cell_type": "code",
   "execution_count": 6,
   "metadata": {},
   "outputs": [
    {
     "name": "stdout",
     "output_type": "stream",
     "text": [
      "[[('for', 'FOR'), ('5', 'Duration'), ('to', 'TO'), ('6', 'DurationMax'), ('days', 'DurationUnit')], [('inject', 'Method'), ('2', 'Qty'), ('units', 'Form')], [('x', 'FOR'), ('2', 'Duration'), ('weeks', 'DurationUnit')], [('x', 'FOR'), ('3', 'Duration'), ('days', 'DurationUnit')], [('every', 'EVERY'), ('day', 'Period')], [('every', 'EVERY'), ('2', 'Period'), ('weeks', 'PeriodUnit')], [('every', 'EVERY'), ('3', 'Period'), ('days', 'PeriodUnit')], [('every', 'EVERY'), ('1', 'Period'), ('to', 'TO'), ('2', 'PeriodMax'), ('months', 'PeriodUnit')], [('every', 'EVERY'), ('2', 'Period'), ('to', 'TO'), ('6', 'PeriodMax'), ('weeks', 'PeriodUnit')], [('every', 'EVERY'), ('4', 'Period'), ('to', 'TO'), ('6', 'PeriodMax'), ('days', 'PeriodUnit')], [('take', 'Method'), ('two', 'Qty'), ('to', 'TO'), ('four', 'Qty'), ('tabs', 'Form')], [('take', 'Method'), ('2', 'Qty'), ('to', 'TO'), ('4', 'Qty'), ('tabs', 'Form')], [('take', 'Method'), ('3', 'Qty'), ('tabs', 'Form'), ('orally', 'PO'), ('bid', 'BID'), ('for', 'FOR'), ('10', 'Duration'), ('days', 'DurationUnit'), ('at', 'AT'), ('bedtime', 'WHEN')], [('swallow', 'Method'), ('three', 'Qty'), ('capsules', 'Form'), ('tid', 'TID'), ('orally', 'PO')], [('take', 'Method'), ('2', 'Qty'), ('capsules', 'Form'), ('po', 'PO'), ('every', 'EVERY'), ('6', 'Period'), ('hours', 'PeriodUnit')], [('take', 'Method'), ('2', 'Qty'), ('tabs', 'Form'), ('po', 'PO'), ('for', 'FOR'), ('10', 'Duration'), ('days', 'DurationUnit')], [('take', 'Method'), ('100', 'Qty'), ('caps', 'Form'), ('by', 'BY'), ('mouth', 'PO'), ('tid', 'TID'), ('for', 'FOR'), ('10', 'Duration'), ('weeks', 'DurationUnit')], [('take', 'Method'), ('2', 'Qty'), ('tabs', 'Form'), ('after', 'AFTER'), ('an', 'Period'), ('hour', 'PeriodUnit')], [('2', 'Qty'), ('tabs', 'Form'), ('every', 'EVERY'), ('4-6', 'Period'), ('hours', 'PeriodUnit')], [('every', 'EVERY'), ('4', 'Period'), ('to', 'TO'), ('6', 'PeriodMax'), ('hours', 'PeriodUnit')], [('q46h', 'Q46H')], [('q4-6h', 'Q4-6H')], [('2', 'Qty'), ('hours', 'PeriodUnit'), ('before', 'BEFORE'), ('breakfast', 'WHEN')], [('before', 'BEFORE'), ('30', 'Qty'), ('mins', 'M'), ('at', 'AT'), ('bedtime', 'WHEN')], [('30', 'Qty'), ('mins', 'M'), ('before', 'BEFORE'), ('bed', 'WHEN')], [('and', 'AND'), ('100', 'Qty'), ('tabs', 'Form'), ('twice', 'Frequency'), ('a', 'Period'), ('month', 'PeriodUnit')], [('100', 'Qty'), ('tabs', 'Form'), ('twice', 'Frequency'), ('a', 'Period'), ('month', 'PeriodUnit')], [('100', 'Qty'), ('tabs', 'Form'), ('once', 'Frequency'), ('a', 'Period'), ('month', 'PeriodUnit')], [('100', 'Qty'), ('tabs', 'Form'), ('thrice', 'Frequency'), ('a', 'Period'), ('month', 'PeriodUnit')], [('3', 'Qty'), ('tabs', 'Form'), ('daily', 'Frequency'), ('for', 'FOR'), ('3', 'Duration'), ('days', 'DurationUnit'), ('then', 'THEN'), ('1', 'Qty'), ('tab', 'Form'), ('per', 'Frequency'), ('day', 'PeriodUnit'), ('at', 'AT'), ('bed', 'WHEN')], [('30', 'Qty'), ('tabs', 'Form'), ('10', 'Duration'), ('days', 'DurationUnit'), ('tid', 'TID')], [('take', 'Method'), ('30', 'Qty'), ('tabs', 'Form'), ('for', 'FOR'), ('10', 'Duration'), ('days', 'DurationUnit'), ('three', 'Qty'), ('times', 'TIMES'), ('a', 'Period'), ('day', 'PeriodUnit')], [('qid', 'QID'), ('q6h', 'Q6H')], [('bid', 'BID')], [('qid', 'QID')], [('30', 'Qty'), ('tabs', 'Form'), ('before', 'BEFORE'), ('dinner', 'WHEN'), ('and', 'AND'), ('bedtime', 'WHEN')], [('30', 'Qty'), ('tabs', 'Form'), ('before', 'BEFORE'), ('dinner', 'WHEN'), ('&', 'AND'), ('bedtime', 'WHEN')], [('take', 'Method'), ('3', 'Qty'), ('tabs', 'Form'), ('at', 'AT'), ('bedtime', 'WHEN')], [('30', 'Qty'), ('tabs', 'Form'), ('thrice', 'Frequency'), ('daily', 'DAILY'), ('for', 'FOR'), ('10', 'Duration'), ('days', 'DurationUnit')], [('30', 'Qty'), ('tabs', 'Form'), ('for', 'FOR'), ('10', 'Duration'), ('days', 'DurationUnit'), ('three', 'Frequency'), ('times', 'TIMES'), ('a', 'Period'), ('day', 'PeriodUnit')], [('take', 'Method'), ('2', 'Qty'), ('tablets', 'Form'), ('a', 'Period'), ('day', 'PeriodUnit')], [('qid', 'QID'), ('for', 'FOR'), ('10', 'Duration'), ('days', 'DurationUnit')], [('every', 'EVERY'), ('day', 'PeriodUnit')], [('take', 'Method'), ('2', 'Qty'), ('caps', 'Form'), ('at', 'AT'), ('bedtime', 'WHEN')], [('apply', 'Method'), ('3', 'Qty'), ('drops', 'Form'), ('before', 'BEFORE'), ('bedtime', 'WHEN')], [('take', 'Method'), ('three', 'Qty'), ('capsules', 'Form'), ('daily', 'DAILY')], [('swallow', 'Method'), ('3', 'Qty'), ('pills', 'Form'), ('once', 'Frequency'), ('a', 'Period'), ('day', 'PeriodUnit')], [('swallow', 'Method'), ('three', 'Qty'), ('pills', 'Form'), ('thrice', 'Frequency'), ('a', 'Period'), ('day', 'PeriodUnit')], [('apply', 'Method'), ('daily', 'DAILY')], [('apply', 'Method'), ('three', 'Qty'), ('drops', 'Form'), ('before', 'BEFORE'), ('bedtime', 'WHEN')], [('every', 'EVERY'), ('6', 'Period'), ('hours', 'PeriodUnit')], [('before', 'BEFORE'), ('food', 'FOOD')], [('after', 'AFTER'), ('food', 'FOOD')], [('for', 'FOR'), ('20', 'Duration'), ('days', 'DurationUnit')], [('for', 'FOR'), ('twenty', 'Duration'), ('days', 'DurationUnit')], [('with', 'WITH'), ('meals', 'FOOD')]]\n"
     ]
    }
   ],
   "source": [
    "print(result)"
   ]
  },
  {
   "cell_type": "markdown",
   "metadata": {},
   "source": [
    "### Creating the triples_maker( ) for feature extraction\n",
    "- input: tuples_maker_output\n",
    "- output: \n",
    "[[('for', 'IN', 'FOR'),\n",
    "  ('5', 'CD', 'Duration'),\n",
    "  ('to', 'TO', 'TO'),\n",
    "  ('6', 'CD', 'DurationMax'),\n",
    "  ('days', 'NNS', 'DurationUnit')], [second sentence], ... ]"
   ]
  },
  {
   "cell_type": "code",
   "execution_count": 7,
   "metadata": {},
   "outputs": [],
   "source": [
    "def triples_maker(whole_data):\n",
    "    sample_data = []\n",
    "    for sentence_tuples in whole_data:\n",
    "        triple_data = [(token, None, label) for token, label in sentence_tuples]\n",
    "        sample_data.append(triple_data)\n",
    "    return sample_data\n",
    "\n",
    "# Assuming whole_data is the result from tuples_maker\n",
    "result = tuples_maker(input_sigs, output_labels)"
   ]
  },
  {
   "cell_type": "code",
   "execution_count": 8,
   "metadata": {},
   "outputs": [
    {
     "name": "stdout",
     "output_type": "stream",
     "text": [
      "[[('for', None, 'FOR'), ('5', None, 'Duration'), ('to', None, 'TO'), ('6', None, 'DurationMax'), ('days', None, 'DurationUnit')], [('inject', None, 'Method'), ('2', None, 'Qty'), ('units', None, 'Form')], [('x', None, 'FOR'), ('2', None, 'Duration'), ('weeks', None, 'DurationUnit')], [('x', None, 'FOR'), ('3', None, 'Duration'), ('days', None, 'DurationUnit')], [('every', None, 'EVERY'), ('day', None, 'Period')], [('every', None, 'EVERY'), ('2', None, 'Period'), ('weeks', None, 'PeriodUnit')], [('every', None, 'EVERY'), ('3', None, 'Period'), ('days', None, 'PeriodUnit')], [('every', None, 'EVERY'), ('1', None, 'Period'), ('to', None, 'TO'), ('2', None, 'PeriodMax'), ('months', None, 'PeriodUnit')], [('every', None, 'EVERY'), ('2', None, 'Period'), ('to', None, 'TO'), ('6', None, 'PeriodMax'), ('weeks', None, 'PeriodUnit')], [('every', None, 'EVERY'), ('4', None, 'Period'), ('to', None, 'TO'), ('6', None, 'PeriodMax'), ('days', None, 'PeriodUnit')], [('take', None, 'Method'), ('two', None, 'Qty'), ('to', None, 'TO'), ('four', None, 'Qty'), ('tabs', None, 'Form')], [('take', None, 'Method'), ('2', None, 'Qty'), ('to', None, 'TO'), ('4', None, 'Qty'), ('tabs', None, 'Form')], [('take', None, 'Method'), ('3', None, 'Qty'), ('tabs', None, 'Form'), ('orally', None, 'PO'), ('bid', None, 'BID'), ('for', None, 'FOR'), ('10', None, 'Duration'), ('days', None, 'DurationUnit'), ('at', None, 'AT'), ('bedtime', None, 'WHEN')], [('swallow', None, 'Method'), ('three', None, 'Qty'), ('capsules', None, 'Form'), ('tid', None, 'TID'), ('orally', None, 'PO')], [('take', None, 'Method'), ('2', None, 'Qty'), ('capsules', None, 'Form'), ('po', None, 'PO'), ('every', None, 'EVERY'), ('6', None, 'Period'), ('hours', None, 'PeriodUnit')], [('take', None, 'Method'), ('2', None, 'Qty'), ('tabs', None, 'Form'), ('po', None, 'PO'), ('for', None, 'FOR'), ('10', None, 'Duration'), ('days', None, 'DurationUnit')], [('take', None, 'Method'), ('100', None, 'Qty'), ('caps', None, 'Form'), ('by', None, 'BY'), ('mouth', None, 'PO'), ('tid', None, 'TID'), ('for', None, 'FOR'), ('10', None, 'Duration'), ('weeks', None, 'DurationUnit')], [('take', None, 'Method'), ('2', None, 'Qty'), ('tabs', None, 'Form'), ('after', None, 'AFTER'), ('an', None, 'Period'), ('hour', None, 'PeriodUnit')], [('2', None, 'Qty'), ('tabs', None, 'Form'), ('every', None, 'EVERY'), ('4-6', None, 'Period'), ('hours', None, 'PeriodUnit')], [('every', None, 'EVERY'), ('4', None, 'Period'), ('to', None, 'TO'), ('6', None, 'PeriodMax'), ('hours', None, 'PeriodUnit')], [('q46h', None, 'Q46H')], [('q4-6h', None, 'Q4-6H')], [('2', None, 'Qty'), ('hours', None, 'PeriodUnit'), ('before', None, 'BEFORE'), ('breakfast', None, 'WHEN')], [('before', None, 'BEFORE'), ('30', None, 'Qty'), ('mins', None, 'M'), ('at', None, 'AT'), ('bedtime', None, 'WHEN')], [('30', None, 'Qty'), ('mins', None, 'M'), ('before', None, 'BEFORE'), ('bed', None, 'WHEN')], [('and', None, 'AND'), ('100', None, 'Qty'), ('tabs', None, 'Form'), ('twice', None, 'Frequency'), ('a', None, 'Period'), ('month', None, 'PeriodUnit')], [('100', None, 'Qty'), ('tabs', None, 'Form'), ('twice', None, 'Frequency'), ('a', None, 'Period'), ('month', None, 'PeriodUnit')], [('100', None, 'Qty'), ('tabs', None, 'Form'), ('once', None, 'Frequency'), ('a', None, 'Period'), ('month', None, 'PeriodUnit')], [('100', None, 'Qty'), ('tabs', None, 'Form'), ('thrice', None, 'Frequency'), ('a', None, 'Period'), ('month', None, 'PeriodUnit')], [('3', None, 'Qty'), ('tabs', None, 'Form'), ('daily', None, 'Frequency'), ('for', None, 'FOR'), ('3', None, 'Duration'), ('days', None, 'DurationUnit'), ('then', None, 'THEN'), ('1', None, 'Qty'), ('tab', None, 'Form'), ('per', None, 'Frequency'), ('day', None, 'PeriodUnit'), ('at', None, 'AT'), ('bed', None, 'WHEN')], [('30', None, 'Qty'), ('tabs', None, 'Form'), ('10', None, 'Duration'), ('days', None, 'DurationUnit'), ('tid', None, 'TID')], [('take', None, 'Method'), ('30', None, 'Qty'), ('tabs', None, 'Form'), ('for', None, 'FOR'), ('10', None, 'Duration'), ('days', None, 'DurationUnit'), ('three', None, 'Qty'), ('times', None, 'TIMES'), ('a', None, 'Period'), ('day', None, 'PeriodUnit')], [('qid', None, 'QID'), ('q6h', None, 'Q6H')], [('bid', None, 'BID')], [('qid', None, 'QID')], [('30', None, 'Qty'), ('tabs', None, 'Form'), ('before', None, 'BEFORE'), ('dinner', None, 'WHEN'), ('and', None, 'AND'), ('bedtime', None, 'WHEN')], [('30', None, 'Qty'), ('tabs', None, 'Form'), ('before', None, 'BEFORE'), ('dinner', None, 'WHEN'), ('&', None, 'AND'), ('bedtime', None, 'WHEN')], [('take', None, 'Method'), ('3', None, 'Qty'), ('tabs', None, 'Form'), ('at', None, 'AT'), ('bedtime', None, 'WHEN')], [('30', None, 'Qty'), ('tabs', None, 'Form'), ('thrice', None, 'Frequency'), ('daily', None, 'DAILY'), ('for', None, 'FOR'), ('10', None, 'Duration'), ('days', None, 'DurationUnit')], [('30', None, 'Qty'), ('tabs', None, 'Form'), ('for', None, 'FOR'), ('10', None, 'Duration'), ('days', None, 'DurationUnit'), ('three', None, 'Frequency'), ('times', None, 'TIMES'), ('a', None, 'Period'), ('day', None, 'PeriodUnit')], [('take', None, 'Method'), ('2', None, 'Qty'), ('tablets', None, 'Form'), ('a', None, 'Period'), ('day', None, 'PeriodUnit')], [('qid', None, 'QID'), ('for', None, 'FOR'), ('10', None, 'Duration'), ('days', None, 'DurationUnit')], [('every', None, 'EVERY'), ('day', None, 'PeriodUnit')], [('take', None, 'Method'), ('2', None, 'Qty'), ('caps', None, 'Form'), ('at', None, 'AT'), ('bedtime', None, 'WHEN')], [('apply', None, 'Method'), ('3', None, 'Qty'), ('drops', None, 'Form'), ('before', None, 'BEFORE'), ('bedtime', None, 'WHEN')], [('take', None, 'Method'), ('three', None, 'Qty'), ('capsules', None, 'Form'), ('daily', None, 'DAILY')], [('swallow', None, 'Method'), ('3', None, 'Qty'), ('pills', None, 'Form'), ('once', None, 'Frequency'), ('a', None, 'Period'), ('day', None, 'PeriodUnit')], [('swallow', None, 'Method'), ('three', None, 'Qty'), ('pills', None, 'Form'), ('thrice', None, 'Frequency'), ('a', None, 'Period'), ('day', None, 'PeriodUnit')], [('apply', None, 'Method'), ('daily', None, 'DAILY')], [('apply', None, 'Method'), ('three', None, 'Qty'), ('drops', None, 'Form'), ('before', None, 'BEFORE'), ('bedtime', None, 'WHEN')], [('every', None, 'EVERY'), ('6', None, 'Period'), ('hours', None, 'PeriodUnit')], [('before', None, 'BEFORE'), ('food', None, 'FOOD')], [('after', None, 'AFTER'), ('food', None, 'FOOD')], [('for', None, 'FOR'), ('20', None, 'Duration'), ('days', None, 'DurationUnit')], [('for', None, 'FOR'), ('twenty', None, 'Duration'), ('days', None, 'DurationUnit')], [('with', None, 'WITH'), ('meals', None, 'FOOD')]]\n"
     ]
    }
   ],
   "source": [
    "sample_data = triples_maker(result)\n",
    "print(sample_data)"
   ]
  },
  {
   "cell_type": "markdown",
   "metadata": {},
   "source": [
    "### Creating the features extractor method (GIVEN as a BASELINE)\n",
    "#### The features used are:\n",
    "- SOS, EOS, lowercase, uppercase, title, digit, postag, previous_tag, next_tag\n",
    "#### Feel free to include more features"
   ]
  },
  {
   "cell_type": "code",
   "execution_count": 9,
   "metadata": {},
   "outputs": [],
   "source": [
    "def token_to_features(doc, i):\n",
    "    word = doc[i][0]\n",
    "    postag = doc[i][1]\n",
    "\n",
    "    # Common features for all words\n",
    "    features = [\n",
    "        'bias',\n",
    "        'word.lower=' + word.lower(),\n",
    "        'word[-3:]=' + word[-3:],\n",
    "        'word[-2:]=' + word[-2:],\n",
    "        'word.isupper=%s' % word.isupper(),\n",
    "        'word.istitle=%s' % word.istitle(),\n",
    "        'word.isdigit=%s' % word.isdigit(),\n",
    "        'postag=' + postag\n",
    "    ]\n",
    "\n",
    "    # Additional features\n",
    "    features.extend([\n",
    "        'word.shape=' + get_word_shape(word),\n",
    "        'word.prefix=' + word[:3],\n",
    "        'has-hyphen=%s' % ('-' in word),\n",
    "        'has_apostrophe=%s' % (\"'\" in word),\n",
    "        'postag[:2]=' + postag[:2]\n",
    "    ])\n",
    "\n",
    "    # Features for words that are not at the beginning of a document\n",
    "    if i > 0:\n",
    "        word1 = doc[i-1][0]\n",
    "        postag1 = doc[i-1][1]\n",
    "        features.extend([\n",
    "            '-1:word.lower=' + word1.lower(),\n",
    "            '-1:word.istitle=%s' % word1.istitle(),\n",
    "            '-1:word.isupper=%s' % word1.isupper(),\n",
    "            '-1:word.isdigit=%s' % word1.isdigit(),\n",
    "            '-1:postag=' + postag1,\n",
    "            '-1:postag[:2]=' + postag1[:2]\n",
    "        ])\n",
    "    else:\n",
    "        features.append('BOS')\n",
    "\n",
    "    # Features for words that are not at the end of a document\n",
    "    if i < len(doc)-1:\n",
    "        word1 = doc[i+1][0]\n",
    "        postag1 = doc[i+1][1]\n",
    "        features.extend([\n",
    "            '+1:word.lower=' + word1.lower(),\n",
    "            '+1:word.istitle=%s' % word1.istitle(),\n",
    "            '+1:word.isupper=%s' % word1.isupper(),\n",
    "            '+1:word.isdigit=%s' % word1.isdigit(),\n",
    "            '+1:postag=' + postag1,\n",
    "            '+1:postag[:2]=' + postag1[:2]\n",
    "        ])\n",
    "    else:\n",
    "        features.append('EOS')\n",
    "\n",
    "    return features\n",
    "\n",
    "# Define the missing get_word_shape function\n",
    "def get_word_shape(word):\n",
    "    shape = ''\n",
    "    for char in word:\n",
    "        if char.islower():\n",
    "            shape += 'x'\n",
    "        elif char.isupper():\n",
    "            shape += 'X'\n",
    "        elif char.isdigit():\n",
    "            shape += 'd'\n",
    "        else:\n",
    "            shape += char\n",
    "    return shape"
   ]
  },
  {
   "cell_type": "markdown",
   "metadata": {},
   "source": [
    "### Running the feature extractor on the training data \n",
    "- Feature extraction\n",
    "- Train-test-split"
   ]
  },
  {
   "cell_type": "code",
   "execution_count": 10,
   "metadata": {},
   "outputs": [],
   "source": [
    "# Placeholder function for feature extraction\n",
    "def extract_features(sentence):\n",
    "    # This is a simple example; replace it with your actual feature extraction logic\n",
    "    return [{'token': token, 'is_capitalized': token[0].isupper()} for token in sentence]\n",
    "\n",
    "# Add the following function to convert labels to a flat list\n",
    "def flatten_labels(labels):\n",
    "    return [label for sublist in labels for label in sublist]\n",
    "\n",
    "# Placeholder function for reading labeled data\n",
    "def read_labeled_data():\n",
    "    # This is a simple example; replace it with your actual logic to read labeled data\n",
    "    # Assume your data is a list of tuples where the first element is the sentence (list of tokens)\n",
    "    # and the second element is a list of labels for each token\n",
    "    return zip(input_sigs, output_labels)\n",
    "\n",
    "# Extract features and labels from your data\n",
    "X = [extract_features(sentence) for sentence, _ in read_labeled_data()]\n",
    "y = [labels for _, labels in read_labeled_data()]"
   ]
  },
  {
   "cell_type": "markdown",
   "metadata": {},
   "source": [
    "### Training the CRF model with the features extracted using the feature extractor method"
   ]
  },
  {
   "cell_type": "code",
   "execution_count": 11,
   "metadata": {},
   "outputs": [
    {
     "name": "stdout",
     "output_type": "stream",
     "text": [
      "Feature generation\n",
      "type: CRF1d\n",
      "feature.minfreq: 0.000000\n",
      "feature.possible_states: 0\n",
      "feature.possible_transitions: 1\n",
      "0....1....2....3....4....5....6....7....8....9....10\n",
      "Number of features: 1008\n",
      "Seconds required: 0.002\n",
      "\n",
      "L-BFGS optimization\n",
      "c1: 1.000000\n",
      "c2: 0.001000\n",
      "num_memories: 6\n",
      "max_iterations: 50\n",
      "epsilon: 0.000010\n",
      "stop: 10\n",
      "delta: 0.000010\n",
      "linesearch: MoreThuente\n",
      "linesearch.max_iterations: 20\n",
      "\n",
      "***** Iteration #1 *****\n",
      "Loss: 661.001241\n",
      "Feature norm: 1.000000\n",
      "Error norm: 42.883098\n",
      "Active features: 60\n",
      "Line search trials: 1\n",
      "Line search step: 0.023153\n",
      "Seconds required for this iteration: 0.001\n",
      "\n",
      "***** Iteration #2 *****\n",
      "Loss: 560.047357\n",
      "Feature norm: 22.443334\n",
      "Error norm: 64.914320\n",
      "Active features: 60\n",
      "Line search trials: 4\n",
      "Line search step: 0.125000\n",
      "Seconds required for this iteration: 0.008\n",
      "\n",
      "***** Iteration #3 *****\n",
      "Loss: 340.391886\n",
      "Feature norm: 21.971700\n",
      "Error norm: 20.767957\n",
      "Active features: 62\n",
      "Line search trials: 1\n",
      "Line search step: 1.000000\n",
      "Seconds required for this iteration: 0.002\n",
      "\n",
      "***** Iteration #4 *****\n",
      "Loss: 282.989933\n",
      "Feature norm: 17.564211\n",
      "Error norm: 15.438934\n",
      "Active features: 64\n",
      "Line search trials: 1\n",
      "Line search step: 1.000000\n",
      "Seconds required for this iteration: 0.001\n",
      "\n",
      "***** Iteration #5 *****\n",
      "Loss: 263.188885\n",
      "Feature norm: 16.994397\n",
      "Error norm: 6.166860\n",
      "Active features: 62\n",
      "Line search trials: 1\n",
      "Line search step: 1.000000\n",
      "Seconds required for this iteration: 0.003\n",
      "\n",
      "***** Iteration #6 *****\n",
      "Loss: 254.714181\n",
      "Feature norm: 18.003622\n",
      "Error norm: 4.800430\n",
      "Active features: 61\n",
      "Line search trials: 1\n",
      "Line search step: 1.000000\n",
      "Seconds required for this iteration: 0.001\n",
      "\n",
      "***** Iteration #7 *****\n",
      "Loss: 245.553146\n",
      "Feature norm: 19.823219\n",
      "Error norm: 4.653508\n",
      "Active features: 57\n",
      "Line search trials: 1\n",
      "Line search step: 1.000000\n",
      "Seconds required for this iteration: 0.001\n",
      "\n",
      "***** Iteration #8 *****\n",
      "Loss: 240.368832\n",
      "Feature norm: 21.477334\n",
      "Error norm: 3.347906\n",
      "Active features: 56\n",
      "Line search trials: 1\n",
      "Line search step: 1.000000\n",
      "Seconds required for this iteration: 0.001\n",
      "\n",
      "***** Iteration #9 *****\n",
      "Loss: 237.327176\n",
      "Feature norm: 21.688753\n",
      "Error norm: 1.601312\n",
      "Active features: 54\n",
      "Line search trials: 1\n",
      "Line search step: 1.000000\n",
      "Seconds required for this iteration: 0.001\n",
      "\n",
      "***** Iteration #10 *****\n",
      "Loss: 236.091868\n",
      "Feature norm: 21.843940\n",
      "Error norm: 1.134779\n",
      "Active features: 51\n",
      "Line search trials: 1\n",
      "Line search step: 1.000000\n",
      "Seconds required for this iteration: 0.001\n",
      "\n",
      "***** Iteration #11 *****\n",
      "Loss: 235.722463\n",
      "Feature norm: 21.982956\n",
      "Error norm: 0.580324\n",
      "Active features: 51\n",
      "Line search trials: 1\n",
      "Line search step: 1.000000\n",
      "Seconds required for this iteration: 0.001\n",
      "\n",
      "***** Iteration #12 *****\n",
      "Loss: 235.588083\n",
      "Feature norm: 22.059458\n",
      "Error norm: 0.471424\n",
      "Active features: 51\n",
      "Line search trials: 1\n",
      "Line search step: 1.000000\n",
      "Seconds required for this iteration: 0.001\n",
      "\n",
      "***** Iteration #13 *****\n",
      "Loss: 235.515969\n",
      "Feature norm: 22.151767\n",
      "Error norm: 0.400199\n",
      "Active features: 50\n",
      "Line search trials: 1\n",
      "Line search step: 1.000000\n",
      "Seconds required for this iteration: 0.001\n",
      "\n",
      "***** Iteration #14 *****\n",
      "Loss: 235.466523\n",
      "Feature norm: 22.216870\n",
      "Error norm: 0.310316\n",
      "Active features: 50\n",
      "Line search trials: 1\n",
      "Line search step: 1.000000\n",
      "Seconds required for this iteration: 0.001\n",
      "\n",
      "***** Iteration #15 *****\n",
      "Loss: 235.393153\n",
      "Feature norm: 22.323900\n",
      "Error norm: 0.509587\n",
      "Active features: 50\n",
      "Line search trials: 1\n",
      "Line search step: 1.000000\n",
      "Seconds required for this iteration: 0.001\n",
      "\n",
      "***** Iteration #16 *****\n",
      "Loss: 235.351719\n",
      "Feature norm: 22.390142\n",
      "Error norm: 0.216308\n",
      "Active features: 50\n",
      "Line search trials: 1\n",
      "Line search step: 1.000000\n",
      "Seconds required for this iteration: 0.001\n",
      "\n",
      "***** Iteration #17 *****\n",
      "Loss: 235.339940\n",
      "Feature norm: 22.388086\n",
      "Error norm: 0.136458\n",
      "Active features: 50\n",
      "Line search trials: 1\n",
      "Line search step: 1.000000\n",
      "Seconds required for this iteration: 0.002\n",
      "\n",
      "***** Iteration #18 *****\n",
      "Loss: 235.325669\n",
      "Feature norm: 22.407322\n",
      "Error norm: 0.101271\n",
      "Active features: 50\n",
      "Line search trials: 1\n",
      "Line search step: 1.000000\n",
      "Seconds required for this iteration: 0.001\n",
      "\n",
      "***** Iteration #19 *****\n",
      "Loss: 235.318842\n",
      "Feature norm: 22.442358\n",
      "Error norm: 0.115216\n",
      "Active features: 50\n",
      "Line search trials: 2\n",
      "Line search step: 0.500000\n",
      "Seconds required for this iteration: 0.001\n",
      "\n",
      "***** Iteration #20 *****\n",
      "Loss: 235.314663\n",
      "Feature norm: 22.443337\n",
      "Error norm: 0.163417\n",
      "Active features: 50\n",
      "Line search trials: 1\n",
      "Line search step: 1.000000\n",
      "Seconds required for this iteration: 0.002\n",
      "\n",
      "***** Iteration #21 *****\n",
      "Loss: 235.312206\n",
      "Feature norm: 22.463582\n",
      "Error norm: 0.063197\n",
      "Active features: 50\n",
      "Line search trials: 1\n",
      "Line search step: 1.000000\n",
      "Seconds required for this iteration: 0.001\n",
      "\n",
      "***** Iteration #22 *****\n",
      "Loss: 235.311176\n",
      "Feature norm: 22.463604\n",
      "Error norm: 0.034677\n",
      "Active features: 50\n",
      "Line search trials: 1\n",
      "Line search step: 1.000000\n",
      "Seconds required for this iteration: 0.000\n",
      "\n",
      "***** Iteration #23 *****\n",
      "Loss: 235.310326\n",
      "Feature norm: 22.460805\n",
      "Error norm: 0.028843\n",
      "Active features: 50\n",
      "Line search trials: 1\n",
      "Line search step: 1.000000\n",
      "Seconds required for this iteration: 0.002\n",
      "\n",
      "***** Iteration #24 *****\n",
      "Loss: 235.309979\n",
      "Feature norm: 22.458695\n",
      "Error norm: 0.033734\n",
      "Active features: 50\n",
      "Line search trials: 2\n",
      "Line search step: 0.500000\n",
      "Seconds required for this iteration: 0.001\n",
      "\n",
      "***** Iteration #25 *****\n",
      "Loss: 235.309776\n",
      "Feature norm: 22.452786\n",
      "Error norm: 0.024750\n",
      "Active features: 50\n",
      "Line search trials: 1\n",
      "Line search step: 1.000000\n",
      "Seconds required for this iteration: 0.001\n",
      "\n",
      "***** Iteration #26 *****\n",
      "Loss: 235.309488\n",
      "Feature norm: 22.454825\n",
      "Error norm: 0.014127\n",
      "Active features: 50\n",
      "Line search trials: 1\n",
      "Line search step: 1.000000\n",
      "Seconds required for this iteration: 0.002\n",
      "\n",
      "***** Iteration #27 *****\n",
      "Loss: 235.309441\n",
      "Feature norm: 22.455520\n",
      "Error norm: 0.038933\n",
      "Active features: 50\n",
      "Line search trials: 1\n",
      "Line search step: 1.000000\n",
      "Seconds required for this iteration: 0.001\n",
      "\n",
      "***** Iteration #28 *****\n",
      "Loss: 235.309309\n",
      "Feature norm: 22.454280\n",
      "Error norm: 0.009705\n",
      "Active features: 50\n",
      "Line search trials: 1\n",
      "Line search step: 1.000000\n",
      "Seconds required for this iteration: 0.002\n",
      "\n",
      "***** Iteration #29 *****\n",
      "Loss: 235.309280\n",
      "Feature norm: 22.454951\n",
      "Error norm: 0.007047\n",
      "Active features: 50\n",
      "Line search trials: 1\n",
      "Line search step: 1.000000\n",
      "Seconds required for this iteration: 0.001\n",
      "\n",
      "***** Iteration #30 *****\n",
      "Loss: 235.309224\n",
      "Feature norm: 22.457035\n",
      "Error norm: 0.008731\n",
      "Active features: 50\n",
      "Line search trials: 1\n",
      "Line search step: 1.000000\n",
      "Seconds required for this iteration: 0.002\n",
      "\n",
      "***** Iteration #31 *****\n",
      "Loss: 235.309220\n",
      "Feature norm: 22.459106\n",
      "Error norm: 0.014799\n",
      "Active features: 50\n",
      "Line search trials: 1\n",
      "Line search step: 1.000000\n",
      "Seconds required for this iteration: 0.001\n",
      "\n",
      "***** Iteration #32 *****\n",
      "Loss: 235.309195\n",
      "Feature norm: 22.458757\n",
      "Error norm: 0.003538\n",
      "Active features: 50\n",
      "Line search trials: 1\n",
      "Line search step: 1.000000\n",
      "Seconds required for this iteration: 0.002\n",
      "\n",
      "L-BFGS terminated with the stopping criteria\n",
      "Total seconds required for training: 0.048\n",
      "\n",
      "Storing the model\n",
      "Number of active features: 50 (1008)\n",
      "Number of active attributes: 32 (66)\n",
      "Number of active labels: 30 (30)\n",
      "Writing labels\n",
      "Writing attributes\n",
      "Writing feature references for transitions\n",
      "Writing feature references for attributes\n",
      "Seconds required: 0.007\n",
      "\n",
      "{'num': 32, 'scores': {}, 'loss': 235.309195, 'feature_norm': 22.458757, 'error_norm': 0.003538, 'active_features': 50, 'linesearch_trials': 1, 'linesearch_step': 1.0, 'time': 0.002}\n",
      "Feature generation\n",
      "type: CRF1d\n",
      "feature.minfreq: 0.000000\n",
      "feature.possible_states: 0\n",
      "feature.possible_transitions: 1\n",
      "0....1....2....3....4....5....6....7....8....9....10\n",
      "Number of features: 1008\n",
      "Seconds required: 0.002\n",
      "\n",
      "L-BFGS optimization\n",
      "c1: 1.000000\n",
      "c2: 0.001000\n",
      "num_memories: 6\n",
      "max_iterations: 50\n",
      "epsilon: 0.000010\n",
      "stop: 10\n",
      "delta: 0.000010\n",
      "linesearch: MoreThuente\n",
      "linesearch.max_iterations: 20\n",
      "\n",
      "***** Iteration #1 *****\n",
      "Loss: 661.001241\n",
      "Feature norm: 1.000000\n",
      "Error norm: 42.883098\n",
      "Active features: 60\n",
      "Line search trials: 1\n",
      "Line search step: 0.023153\n",
      "Seconds required for this iteration: 0.002\n",
      "\n",
      "***** Iteration #2 *****\n",
      "Loss: 560.047357\n",
      "Feature norm: 22.443334\n",
      "Error norm: 64.914320\n",
      "Active features: 60\n",
      "Line search trials: 4\n",
      "Line search step: 0.125000\n",
      "Seconds required for this iteration: 0.002\n",
      "\n",
      "***** Iteration #3 *****\n",
      "Loss: 340.391886\n",
      "Feature norm: 21.971700\n",
      "Error norm: 20.767957\n",
      "Active features: 62\n",
      "Line search trials: 1\n",
      "Line search step: 1.000000\n",
      "Seconds required for this iteration: 0.001\n",
      "\n",
      "***** Iteration #4 *****\n",
      "Loss: 282.989933\n",
      "Feature norm: 17.564211\n",
      "Error norm: 15.438934\n",
      "Active features: 64\n",
      "Line search trials: 1\n",
      "Line search step: 1.000000\n",
      "Seconds required for this iteration: 0.002\n",
      "\n",
      "***** Iteration #5 *****\n",
      "Loss: 263.188885\n",
      "Feature norm: 16.994397\n",
      "Error norm: 6.166860\n",
      "Active features: 62\n",
      "Line search trials: 1\n",
      "Line search step: 1.000000\n",
      "Seconds required for this iteration: 0.001\n",
      "\n",
      "***** Iteration #6 *****\n",
      "Loss: 254.714181\n",
      "Feature norm: 18.003622\n",
      "Error norm: 4.800430\n",
      "Active features: 61\n",
      "Line search trials: 1\n",
      "Line search step: 1.000000\n",
      "Seconds required for this iteration: 0.001\n",
      "\n",
      "***** Iteration #7 *****\n",
      "Loss: 245.553146\n",
      "Feature norm: 19.823219\n",
      "Error norm: 4.653508\n",
      "Active features: 57\n",
      "Line search trials: 1\n",
      "Line search step: 1.000000\n",
      "Seconds required for this iteration: 0.001\n",
      "\n",
      "***** Iteration #8 *****\n",
      "Loss: 240.368832\n",
      "Feature norm: 21.477334\n",
      "Error norm: 3.347906\n",
      "Active features: 56\n",
      "Line search trials: 1\n",
      "Line search step: 1.000000\n",
      "Seconds required for this iteration: 0.001\n",
      "\n",
      "***** Iteration #9 *****\n",
      "Loss: 237.327176\n",
      "Feature norm: 21.688753\n",
      "Error norm: 1.601312\n",
      "Active features: 54\n",
      "Line search trials: 1\n",
      "Line search step: 1.000000\n",
      "Seconds required for this iteration: 0.001\n",
      "\n",
      "***** Iteration #10 *****\n",
      "Loss: 236.091868\n",
      "Feature norm: 21.843940\n",
      "Error norm: 1.134779\n",
      "Active features: 51\n",
      "Line search trials: 1\n",
      "Line search step: 1.000000\n",
      "Seconds required for this iteration: 0.001\n",
      "\n",
      "***** Iteration #11 *****\n",
      "Loss: 235.722463\n",
      "Feature norm: 21.982956\n",
      "Error norm: 0.580324\n",
      "Active features: 51\n",
      "Line search trials: 1\n",
      "Line search step: 1.000000\n",
      "Seconds required for this iteration: 0.002\n",
      "\n",
      "***** Iteration #12 *****\n",
      "Loss: 235.588083\n",
      "Feature norm: 22.059458\n",
      "Error norm: 0.471424\n",
      "Active features: 51\n",
      "Line search trials: 1\n",
      "Line search step: 1.000000\n",
      "Seconds required for this iteration: 0.001\n",
      "\n",
      "***** Iteration #13 *****\n",
      "Loss: 235.515969\n",
      "Feature norm: 22.151767\n",
      "Error norm: 0.400199\n",
      "Active features: 50\n",
      "Line search trials: 1\n",
      "Line search step: 1.000000\n",
      "Seconds required for this iteration: 0.001\n",
      "\n",
      "***** Iteration #14 *****\n",
      "Loss: 235.466523\n",
      "Feature norm: 22.216870\n",
      "Error norm: 0.310316\n",
      "Active features: 50\n",
      "Line search trials: 1\n",
      "Line search step: 1.000000\n",
      "Seconds required for this iteration: 0.000\n",
      "\n",
      "***** Iteration #15 *****\n",
      "Loss: 235.393153\n",
      "Feature norm: 22.323900\n",
      "Error norm: 0.509587\n",
      "Active features: 50\n",
      "Line search trials: 1\n",
      "Line search step: 1.000000\n",
      "Seconds required for this iteration: 0.003\n",
      "\n",
      "***** Iteration #16 *****\n",
      "Loss: 235.351719\n",
      "Feature norm: 22.390142\n",
      "Error norm: 0.216308\n",
      "Active features: 50\n",
      "Line search trials: 1\n",
      "Line search step: 1.000000\n",
      "Seconds required for this iteration: 0.001\n",
      "\n",
      "***** Iteration #17 *****\n",
      "Loss: 235.339940\n",
      "Feature norm: 22.388086\n",
      "Error norm: 0.136458\n",
      "Active features: 50\n",
      "Line search trials: 1\n",
      "Line search step: 1.000000\n",
      "Seconds required for this iteration: 0.001\n",
      "\n",
      "***** Iteration #18 *****\n",
      "Loss: 235.325669\n",
      "Feature norm: 22.407322\n",
      "Error norm: 0.101271\n",
      "Active features: 50\n",
      "Line search trials: 1\n",
      "Line search step: 1.000000\n",
      "Seconds required for this iteration: 0.001\n",
      "\n",
      "***** Iteration #19 *****\n",
      "Loss: 235.318842\n",
      "Feature norm: 22.442358\n",
      "Error norm: 0.115216\n",
      "Active features: 50\n",
      "Line search trials: 2\n",
      "Line search step: 0.500000\n",
      "Seconds required for this iteration: 0.001\n",
      "\n",
      "***** Iteration #20 *****\n",
      "Loss: 235.314663\n",
      "Feature norm: 22.443337\n",
      "Error norm: 0.163417\n",
      "Active features: 50\n",
      "Line search trials: 1\n",
      "Line search step: 1.000000\n",
      "Seconds required for this iteration: 0.001\n",
      "\n",
      "***** Iteration #21 *****\n",
      "Loss: 235.312206\n",
      "Feature norm: 22.463582\n",
      "Error norm: 0.063197\n",
      "Active features: 50\n",
      "Line search trials: 1\n",
      "Line search step: 1.000000\n",
      "Seconds required for this iteration: 0.001\n",
      "\n",
      "***** Iteration #22 *****\n",
      "Loss: 235.311176\n",
      "Feature norm: 22.463604\n",
      "Error norm: 0.034677\n",
      "Active features: 50\n",
      "Line search trials: 1\n",
      "Line search step: 1.000000\n",
      "Seconds required for this iteration: 0.001\n",
      "\n",
      "***** Iteration #23 *****\n",
      "Loss: 235.310326\n",
      "Feature norm: 22.460805\n",
      "Error norm: 0.028843\n",
      "Active features: 50\n",
      "Line search trials: 1\n",
      "Line search step: 1.000000\n",
      "Seconds required for this iteration: 0.005\n",
      "\n",
      "***** Iteration #24 *****\n",
      "Loss: 235.309979\n",
      "Feature norm: 22.458695\n",
      "Error norm: 0.033734\n",
      "Active features: 50\n",
      "Line search trials: 2\n",
      "Line search step: 0.500000\n",
      "Seconds required for this iteration: 0.003\n",
      "\n",
      "***** Iteration #25 *****\n",
      "Loss: 235.309776\n",
      "Feature norm: 22.452786\n",
      "Error norm: 0.024750\n",
      "Active features: 50\n",
      "Line search trials: 1\n",
      "Line search step: 1.000000\n",
      "Seconds required for this iteration: 0.003\n",
      "\n",
      "***** Iteration #26 *****\n",
      "Loss: 235.309488\n",
      "Feature norm: 22.454825\n",
      "Error norm: 0.014127\n",
      "Active features: 50\n",
      "Line search trials: 1\n",
      "Line search step: 1.000000\n",
      "Seconds required for this iteration: 0.001\n",
      "\n",
      "***** Iteration #27 *****\n",
      "Loss: 235.309441\n",
      "Feature norm: 22.455520\n",
      "Error norm: 0.038933\n",
      "Active features: 50\n",
      "Line search trials: 1\n",
      "Line search step: 1.000000\n",
      "Seconds required for this iteration: 0.001\n",
      "\n",
      "***** Iteration #28 *****\n",
      "Loss: 235.309309\n",
      "Feature norm: 22.454280\n",
      "Error norm: 0.009705\n",
      "Active features: 50\n",
      "Line search trials: 1\n",
      "Line search step: 1.000000\n",
      "Seconds required for this iteration: 0.001\n",
      "\n",
      "***** Iteration #29 *****\n",
      "Loss: 235.309280\n",
      "Feature norm: 22.454951\n",
      "Error norm: 0.007047\n",
      "Active features: 50\n",
      "Line search trials: 1\n",
      "Line search step: 1.000000\n",
      "Seconds required for this iteration: 0.001\n",
      "\n",
      "***** Iteration #30 *****\n",
      "Loss: 235.309224\n",
      "Feature norm: 22.457035\n",
      "Error norm: 0.008731\n",
      "Active features: 50\n",
      "Line search trials: 1\n",
      "Line search step: 1.000000\n",
      "Seconds required for this iteration: 0.002\n",
      "\n",
      "***** Iteration #31 *****\n",
      "Loss: 235.309220\n",
      "Feature norm: 22.459106\n",
      "Error norm: 0.014799\n",
      "Active features: 50\n",
      "Line search trials: 1\n",
      "Line search step: 1.000000\n",
      "Seconds required for this iteration: 0.001\n",
      "\n",
      "***** Iteration #32 *****\n",
      "Loss: 235.309195\n",
      "Feature norm: 22.458757\n",
      "Error norm: 0.003538\n",
      "Active features: 50\n",
      "Line search trials: 1\n",
      "Line search step: 1.000000\n",
      "Seconds required for this iteration: 0.004\n",
      "\n",
      "L-BFGS terminated with the stopping criteria\n",
      "Total seconds required for training: 0.051\n",
      "\n",
      "Storing the model\n",
      "Number of active features: 50 (1008)\n",
      "Number of active attributes: 32 (66)\n",
      "Number of active labels: 30 (30)\n",
      "Writing labels\n",
      "Writing attributes\n",
      "Writing feature references for transitions\n",
      "Writing feature references for attributes\n",
      "Seconds required: 0.003\n",
      "\n"
     ]
    }
   ],
   "source": [
    "# # Split the data into training and testing sets (80% training, 20% testing)\n",
    "# split_idx = int(0.8 * len(X))\n",
    "# X_train, X_test = X[:split_idx], X[split_idx:]\n",
    "# y_train, y_test = y[:split_idx], y[split_idx:]\n",
    "\n",
    "# Split your data into training and test sets\n",
    "X_train, X_test, y_train, y_test = train_test_split(X, y, test_size=0.2, random_state=42)\n",
    "\n",
    "# Train the CRF model\n",
    "trainer = pycrfsuite.Trainer(verbose=True)\n",
    "\n",
    "for xseq, yseq in zip(X_train, y_train):\n",
    "    trainer.append(xseq, yseq)\n",
    "\n",
    "trainer.set_params({\n",
    "    'c1': 1.0,  # coefficient for L1 penalty\n",
    "    'c2': 1e-3,  # coefficient for L2 penalty\n",
    "    'max_iterations': 50,  # stop earlier\n",
    "    'feature.possible_transitions': True\n",
    "})\n",
    "\n",
    "# Provide a file name as a parameter to the train function\n",
    "model_file = 'Prescription_Parser.model'\n",
    "trainer.train(model_file)\n",
    "\n",
    "# Print the model training details\n",
    "print(trainer.logparser.last_iteration)\n",
    "\n",
    "# Train the model and save it to a file\n",
    "trainer.train('crf_model.crfsuite')\n",
    "\n",
    "# Load the trained model\n",
    "tagger = pycrfsuite.Tagger()\n",
    "tagger.open('crf_model.crfsuite')\n",
    "\n",
    "# Make predictions on the test set\n",
    "y_pred = [tagger.tag(xseq) for xseq in X_test]\n",
    "\n",
    "# Flatten the true and predicted labels\n",
    "y_test_flat = flatten_labels(y_test)\n",
    "y_pred_flat = flatten_labels(y_pred)"
   ]
  },
  {
   "cell_type": "code",
   "execution_count": 12,
   "metadata": {},
   "outputs": [
    {
     "name": "stdout",
     "output_type": "stream",
     "text": [
      "              precision    recall  f1-score   support\n",
      "\n",
      "         AND       0.00      0.00      0.00         1\n",
      "          AT       1.00      1.00      1.00         1\n",
      "      BEFORE       0.67      1.00      0.80         2\n",
      "         BID       0.00      0.00      0.00         2\n",
      "    Duration       1.00      1.00      1.00         4\n",
      " DurationMax       0.00      0.00      0.00         1\n",
      "DurationUnit       1.00      0.75      0.86         4\n",
      "       EVERY       1.00      1.00      1.00         3\n",
      "         FOR       1.00      1.00      1.00         4\n",
      "        Form       1.00      1.00      1.00         5\n",
      "   Frequency       0.33      1.00      0.50         1\n",
      "      Method       1.00      1.00      1.00         3\n",
      "          PO       0.00      0.00      0.00         2\n",
      "      Period       0.67      1.00      0.80         4\n",
      "   PeriodMax       0.50      1.00      0.67         1\n",
      "  PeriodUnit       0.80      1.00      0.89         4\n",
      "         QID       0.00      0.00      0.00         0\n",
      "         Qty       1.00      1.00      1.00         5\n",
      "         TID       0.00      0.00      0.00         1\n",
      "          TO       1.00      1.00      1.00         2\n",
      "        WHEN       1.00      1.00      1.00         4\n",
      "\n",
      "    accuracy                           0.85        54\n",
      "   macro avg       0.62      0.70      0.64        54\n",
      "weighted avg       0.80      0.85      0.81        54\n",
      "\n"
     ]
    },
    {
     "name": "stderr",
     "output_type": "stream",
     "text": [
      "C:\\Users\\shane\\anaconda3\\Lib\\site-packages\\sklearn\\metrics\\_classification.py:1469: UndefinedMetricWarning: Precision and F-score are ill-defined and being set to 0.0 in labels with no predicted samples. Use `zero_division` parameter to control this behavior.\n",
      "  _warn_prf(average, modifier, msg_start, len(result))\n",
      "C:\\Users\\shane\\anaconda3\\Lib\\site-packages\\sklearn\\metrics\\_classification.py:1469: UndefinedMetricWarning: Recall and F-score are ill-defined and being set to 0.0 in labels with no true samples. Use `zero_division` parameter to control this behavior.\n",
      "  _warn_prf(average, modifier, msg_start, len(result))\n",
      "C:\\Users\\shane\\anaconda3\\Lib\\site-packages\\sklearn\\metrics\\_classification.py:1469: UndefinedMetricWarning: Precision and F-score are ill-defined and being set to 0.0 in labels with no predicted samples. Use `zero_division` parameter to control this behavior.\n",
      "  _warn_prf(average, modifier, msg_start, len(result))\n",
      "C:\\Users\\shane\\anaconda3\\Lib\\site-packages\\sklearn\\metrics\\_classification.py:1469: UndefinedMetricWarning: Recall and F-score are ill-defined and being set to 0.0 in labels with no true samples. Use `zero_division` parameter to control this behavior.\n",
      "  _warn_prf(average, modifier, msg_start, len(result))\n",
      "C:\\Users\\shane\\anaconda3\\Lib\\site-packages\\sklearn\\metrics\\_classification.py:1469: UndefinedMetricWarning: Precision and F-score are ill-defined and being set to 0.0 in labels with no predicted samples. Use `zero_division` parameter to control this behavior.\n",
      "  _warn_prf(average, modifier, msg_start, len(result))\n",
      "C:\\Users\\shane\\anaconda3\\Lib\\site-packages\\sklearn\\metrics\\_classification.py:1469: UndefinedMetricWarning: Recall and F-score are ill-defined and being set to 0.0 in labels with no true samples. Use `zero_division` parameter to control this behavior.\n",
      "  _warn_prf(average, modifier, msg_start, len(result))\n"
     ]
    }
   ],
   "source": [
    "# Print classification report\n",
    "print(classification_report(y_test_flat, y_pred_flat))"
   ]
  },
  {
   "cell_type": "code",
   "execution_count": 13,
   "metadata": {},
   "outputs": [
    {
     "name": "stdout",
     "output_type": "stream",
     "text": [
      "Length of test labels: 54\n",
      "Length of predicted labels: 54\n"
     ]
    }
   ],
   "source": [
    "# Print the length of ground truth and predicted labels\n",
    "print(\"Length of test labels:\", len(y_test_flat))\n",
    "print(\"Length of predicted labels:\", len(y_pred_flat))"
   ]
  },
  {
   "cell_type": "markdown",
   "metadata": {},
   "source": [
    "### Predicting the test data with the built model"
   ]
  },
  {
   "cell_type": "code",
   "execution_count": 14,
   "metadata": {
    "scrolled": false
   },
   "outputs": [
    {
     "name": "stdout",
     "output_type": "stream",
     "text": [
      "Sentence 1:\n",
      "Original Sentence: take 2 tabs every 6 hours x 10 days\n",
      "Predicted Labels: ['Method', 'Qty', 'Form', 'EVERY', 'Period', 'PeriodUnit', 'FOR', 'Duration', 'DurationUnit']\n",
      "\n",
      "Sentence 2:\n",
      "Original Sentence: 2 capsu for 10 day at bed\n",
      "Predicted Labels: ['Qty', 'Form', 'FOR', 'Duration', 'DurationUnit', 'AT', 'WHEN']\n",
      "\n",
      "Sentence 3:\n",
      "Original Sentence: 2 capsu for 10 days at bed\n",
      "Predicted Labels: ['Qty', 'Form', 'FOR', 'Duration', 'DurationUnit', 'AT', 'WHEN']\n",
      "\n",
      "Sentence 4:\n",
      "Original Sentence: 5 days 2 tabs at bed\n",
      "Predicted Labels: ['Duration', 'DurationUnit', 'Qty', 'Form', 'AT', 'WHEN']\n",
      "\n",
      "Sentence 5:\n",
      "Original Sentence: 3 tabs qid x 10 weeks\n",
      "Predicted Labels: ['Qty', 'Form', 'QID', 'FOR', 'Duration', 'DurationUnit']\n",
      "\n",
      "Sentence 6:\n",
      "Original Sentence: x 30 days\n",
      "Predicted Labels: ['Method', 'Qty', 'Form']\n",
      "\n",
      "Sentence 7:\n",
      "Original Sentence: x 20 months\n",
      "Predicted Labels: ['Method', 'Qty', 'Form']\n",
      "\n",
      "Sentence 8:\n",
      "Original Sentence: take 2 tabs po tid for 10 days\n",
      "Predicted Labels: ['Method', 'Qty', 'Form', 'PO', 'TID', 'FOR', 'Duration', 'DurationUnit']\n",
      "\n",
      "Sentence 9:\n",
      "Original Sentence: take 2 capsules po every 6 hours\n",
      "Predicted Labels: ['Method', 'Qty', 'Form', 'PO', 'EVERY', 'Period', 'PeriodUnit']\n",
      "\n",
      "Sentence 10:\n",
      "Original Sentence: inject 2 units pu tid\n",
      "Predicted Labels: ['Method', 'Qty', 'Form', 'Frequency', 'TID']\n",
      "\n",
      "Sentence 11:\n",
      "Original Sentence: swallow 3 caps tid by mouth\n",
      "Predicted Labels: ['Method', 'Qty', 'Form', 'Frequency', 'Period', 'PeriodUnit']\n",
      "\n",
      "Sentence 12:\n",
      "Original Sentence: inject 3 units orally\n",
      "Predicted Labels: ['Method', 'Qty', 'Form', 'Frequency']\n",
      "\n",
      "Sentence 13:\n",
      "Original Sentence: orally take 3 tabs tid\n",
      "Predicted Labels: ['QID', 'Method', 'Qty', 'Form', 'TID']\n",
      "\n",
      "Sentence 14:\n",
      "Original Sentence: by mouth take three caps\n",
      "Predicted Labels: ['Qty', 'Form', 'Method', 'Qty', 'Form']\n",
      "\n",
      "Sentence 15:\n",
      "Original Sentence: take 3 tabs orally three times a day for 10 days at bedtime\n",
      "Predicted Labels: ['Method', 'Qty', 'Form', 'Method', 'Qty', 'Form', 'Period', 'PeriodUnit', 'FOR', 'Duration', 'DurationUnit', 'AT', 'WHEN']\n",
      "\n",
      "Sentence 16:\n",
      "Original Sentence: take 3 tabs orally bid for 10 days at bedtime\n",
      "Predicted Labels: ['Method', 'Qty', 'Form', 'Frequency', 'Period', 'FOR', 'Duration', 'DurationUnit', 'AT', 'WHEN']\n",
      "\n",
      "Sentence 17:\n",
      "Original Sentence: take 3 tabs bid orally at bed\n",
      "Predicted Labels: ['Method', 'Qty', 'Form', 'Frequency', 'Period', 'AT', 'WHEN']\n",
      "\n",
      "Sentence 18:\n",
      "Original Sentence: take 10 capsules by mouth qid\n",
      "Predicted Labels: ['Method', 'Qty', 'Form', 'Frequency', 'Period', 'PeriodUnit']\n",
      "\n",
      "Sentence 19:\n",
      "Original Sentence: inject 10 units orally qid x 3 months\n",
      "Predicted Labels: ['Method', 'Qty', 'Form', 'Frequency', 'QID', 'Method', 'Qty', 'Form']\n",
      "\n",
      "Sentence 20:\n",
      "Original Sentence: please take 2 tablets per day for a month in the morning and evening each day\n",
      "Predicted Labels: ['Method', 'Qty', 'Form', 'Frequency', 'Period', 'PeriodUnit', 'FOR', 'Duration', 'DurationUnit', 'Method', 'Qty', 'Form', 'AND', 'EVERY', 'Period', 'PeriodUnit']\n",
      "\n",
      "Sentence 21:\n",
      "Original Sentence: Amoxcicillin QID 30 tablets\n",
      "Predicted Labels: ['Method', 'Qty', 'Form', 'Frequency']\n",
      "\n",
      "Sentence 22:\n",
      "Original Sentence: take 3 tabs TID for 90 days with food\n",
      "Predicted Labels: ['Method', 'Qty', 'Form', 'Frequency', 'FOR', 'Duration', 'DurationUnit', 'Qty', 'Form']\n",
      "\n",
      "Sentence 23:\n",
      "Original Sentence: with food take 3 tablets per day for 90 days\n",
      "Predicted Labels: ['Qty', 'Form', 'Method', 'Qty', 'Form', 'Period', 'PeriodUnit', 'FOR', 'Duration', 'DurationUnit']\n",
      "\n",
      "Sentence 24:\n",
      "Original Sentence: with food take 3 tablets per week for 90 weeks\n",
      "Predicted Labels: ['Qty', 'Form', 'Method', 'Qty', 'Form', 'Frequency', 'Period', 'FOR', 'Duration', 'DurationUnit']\n",
      "\n",
      "Sentence 25:\n",
      "Original Sentence: take 2-4 tabs\n",
      "Predicted Labels: ['Method', 'Qty', 'Form']\n",
      "\n",
      "Sentence 26:\n",
      "Original Sentence: take 2 to 4 tabs\n",
      "Predicted Labels: ['Method', 'Qty', 'TO', 'Qty', 'Form']\n",
      "\n",
      "Sentence 27:\n",
      "Original Sentence: take two to four tabs\n",
      "Predicted Labels: ['Method', 'Qty', 'TO', 'Qty', 'Form']\n",
      "\n",
      "Sentence 28:\n",
      "Original Sentence: take 2-4 tabs for 8 to 9 days\n",
      "Predicted Labels: ['Method', 'Qty', 'Form', 'FOR', 'Duration', 'TO', 'PeriodMax', 'PeriodUnit']\n",
      "\n",
      "Sentence 29:\n",
      "Original Sentence: take 20 tabs every 6 to 8 days\n",
      "Predicted Labels: ['Method', 'Qty', 'Form', 'EVERY', 'Period', 'TO', 'PeriodMax', 'PeriodUnit']\n",
      "\n",
      "Sentence 30:\n",
      "Original Sentence: take 2 tabs every 4 to 6 days\n",
      "Predicted Labels: ['Method', 'Qty', 'Form', 'EVERY', 'Period', 'TO', 'PeriodMax', 'PeriodUnit']\n",
      "\n",
      "Sentence 31:\n",
      "Original Sentence: take 2 tabs every 2 to 10 weeks\n",
      "Predicted Labels: ['Method', 'Qty', 'Form', 'EVERY', 'Period', 'TO', 'PeriodMax', 'PeriodUnit']\n",
      "\n",
      "Sentence 32:\n",
      "Original Sentence: take 2 tabs every 4 to 6 days\n",
      "Predicted Labels: ['Method', 'Qty', 'Form', 'EVERY', 'Period', 'TO', 'PeriodMax', 'PeriodUnit']\n",
      "\n",
      "Sentence 33:\n",
      "Original Sentence: take 2 tabs every 2 to 10 months\n",
      "Predicted Labels: ['Method', 'Qty', 'Form', 'EVERY', 'Period', 'TO', 'PeriodMax', 'PeriodUnit']\n",
      "\n",
      "Sentence 34:\n",
      "Original Sentence: every 60 mins\n",
      "Predicted Labels: ['EVERY', 'Period', 'PeriodUnit']\n",
      "\n",
      "Sentence 35:\n",
      "Original Sentence: every 10 mins\n",
      "Predicted Labels: ['EVERY', 'Period', 'PeriodUnit']\n",
      "\n",
      "Sentence 36:\n",
      "Original Sentence: every two to four months\n",
      "Predicted Labels: ['EVERY', 'Period', 'TO', 'PeriodMax', 'PeriodUnit']\n",
      "\n",
      "Sentence 37:\n",
      "Original Sentence: take 2 tabs every 3 to 4 days\n",
      "Predicted Labels: ['Method', 'Qty', 'Form', 'EVERY', 'Period', 'TO', 'PeriodMax', 'PeriodUnit']\n",
      "\n",
      "Sentence 38:\n",
      "Original Sentence: every 3 to 4 days take 20 tabs\n",
      "Predicted Labels: ['EVERY', 'Period', 'TO', 'PeriodMax', 'PeriodUnit', 'Method', 'Qty', 'Form']\n",
      "\n",
      "Sentence 39:\n",
      "Original Sentence: once in every 3 days take 3 tabs\n",
      "Predicted Labels: ['Qty', 'Form', 'EVERY', 'Period', 'PeriodUnit', 'Method', 'Qty', 'Form']\n",
      "\n",
      "Sentence 40:\n",
      "Original Sentence: take 3 tabs once in every 3 days\n",
      "Predicted Labels: ['Method', 'Qty', 'Form', 'Frequency', 'Period', 'EVERY', 'Period', 'PeriodUnit']\n",
      "\n",
      "Sentence 41:\n",
      "Original Sentence: orally take 20 tabs every 4-6 weeks\n",
      "Predicted Labels: ['QID', 'Method', 'Qty', 'Form', 'EVERY', 'Period', 'PeriodUnit']\n",
      "\n",
      "Sentence 42:\n",
      "Original Sentence: 10 tabs x 2 days\n",
      "Predicted Labels: ['Qty', 'Form', 'FOR', 'Duration', 'DurationUnit']\n",
      "\n",
      "Sentence 43:\n",
      "Original Sentence: 3 capsule x 15 days\n",
      "Predicted Labels: ['Qty', 'Form', 'FOR', 'Duration', 'DurationUnit']\n",
      "\n",
      "Sentence 44:\n",
      "Original Sentence: 10 tabs\n",
      "Predicted Labels: ['Qty', 'Form']\n",
      "\n"
     ]
    }
   ],
   "source": [
    "# Define the test data\n",
    "test_data = [\n",
    "    \"take 2 tabs every 6 hours x 10 days\",\n",
    "    \"2 capsu for 10 day at bed\",\n",
    "    \"2 capsu for 10 days at bed\",\n",
    "    \"5 days 2 tabs at bed\",\n",
    "    \"3 tabs qid x 10 weeks\",\n",
    "    \"x 30 days\",\n",
    "    \"x 20 months\",\n",
    "    \"take 2 tabs po tid for 10 days\",\n",
    "    \"take 2 capsules po every 6 hours\",\n",
    "    \"inject 2 units pu tid\",\n",
    "    \"swallow 3 caps tid by mouth\",\n",
    "    \"inject 3 units orally\",\n",
    "    \"orally take 3 tabs tid\",\n",
    "    \"by mouth take three caps\",\n",
    "    \"take 3 tabs orally three times a day for 10 days at bedtime\",\n",
    "    \"take 3 tabs orally bid for 10 days at bedtime\",\n",
    "    \"take 3 tabs bid orally at bed\",\n",
    "    \"take 10 capsules by mouth qid\",\n",
    "    \"inject 10 units orally qid x 3 months\",\n",
    "    \"please take 2 tablets per day for a month in the morning and evening each day\",\n",
    "    \"Amoxcicillin QID 30 tablets\",\n",
    "    \"take 3 tabs TID for 90 days with food\",\n",
    "    \"with food take 3 tablets per day for 90 days\",\n",
    "    \"with food take 3 tablets per week for 90 weeks\",\n",
    "    \"take 2-4 tabs\",\n",
    "    \"take 2 to 4 tabs\",\n",
    "    \"take two to four tabs\",\n",
    "    \"take 2-4 tabs for 8 to 9 days\",\n",
    "    \"take 20 tabs every 6 to 8 days\",\n",
    "    \"take 2 tabs every 4 to 6 days\",\n",
    "    \"take 2 tabs every 2 to 10 weeks\",\n",
    "    \"take 2 tabs every 4 to 6 days\",\n",
    "    \"take 2 tabs every 2 to 10 months\",\n",
    "    \"every 60 mins\",\n",
    "    \"every 10 mins\",\n",
    "    \"every two to four months\",\n",
    "    \"take 2 tabs every 3 to 4 days\",\n",
    "    \"every 3 to 4 days take 20 tabs\",\n",
    "    \"once in every 3 days take 3 tabs\",\n",
    "    \"take 3 tabs once in every 3 days\",\n",
    "    \"orally take 20 tabs every 4-6 weeks\",\n",
    "    \"10 tabs x 2 days\",\n",
    "    \"3 capsule x 15 days\",\n",
    "    \"10 tabs\"\n",
    "]\n",
    "\n",
    "# Define the tokenize function\n",
    "def tokenize(sentence):\n",
    "    return sentence.split()\n",
    "\n",
    "# Extract features for the test data\n",
    "X_test_data = [extract_features(tokenize(sentence)) for sentence in test_data]\n",
    "\n",
    "# Load the trained CRF model\n",
    "tagger = pycrfsuite.Tagger()\n",
    "tagger.open(model_file)  # Use the same name as during training\n",
    "\n",
    "# Make predictions on the test data\n",
    "y_pred_test_data = [tagger.tag(xseq) for xseq in X_test_data]\n",
    "\n",
    "# Print the predictions for inspection\n",
    "for i, (sentence, pred_labels) in enumerate(zip(test_data, y_pred_test_data)):\n",
    "    print(f\"Sentence {i + 1}:\")\n",
    "    print(f\"Original Sentence: {sentence}\")\n",
    "    print(f\"Predicted Labels: {pred_labels}\")\n",
    "    print()"
   ]
  },
  {
   "cell_type": "code",
   "execution_count": null,
   "metadata": {},
   "outputs": [],
   "source": []
  },
  {
   "cell_type": "code",
   "execution_count": null,
   "metadata": {},
   "outputs": [],
   "source": []
  },
  {
   "cell_type": "code",
   "execution_count": null,
   "metadata": {},
   "outputs": [],
   "source": []
  },
  {
   "cell_type": "code",
   "execution_count": null,
   "metadata": {},
   "outputs": [],
   "source": []
  },
  {
   "cell_type": "code",
   "execution_count": null,
   "metadata": {},
   "outputs": [],
   "source": []
  },
  {
   "cell_type": "markdown",
   "metadata": {},
   "source": [
    "### Putting all the prediction logic inside a predict method"
   ]
  },
  {
   "cell_type": "code",
   "execution_count": 15,
   "metadata": {},
   "outputs": [],
   "source": [
    "def predict(sig):\n",
    "    \"\"\"\n",
    "    predict(sig)\n",
    "    Purpose: Labels the given sig into corresponding labels\n",
    "    @param sig: A Sentence  # A medical prescription sig written by a doctor\n",
    "    @return: A list      # A list with predicted labels (first level of labeling)\n",
    "    \"\"\"\n",
    "    # Tokenize the input sentence\n",
    "    tokens = tokenize(sig)\n",
    "\n",
    "    # Extract features for the input sentence\n",
    "    features = extract_features(tokens)\n",
    "\n",
    "    # Load the trained CRF model\n",
    "    tagger = pycrfsuite.Tagger()\n",
    "    tagger.open(model_file)  # Use the same name as during training\n",
    "\n",
    "    # Make predictions on the input data\n",
    "    pred_labels = tagger.tag(features)\n",
    "\n",
    "    # Organize predictions into the required format\n",
    "    predictions = organize_predictions(tokens, pred_labels)\n",
    "\n",
    "    return predictions\n",
    "\n",
    "def organize_predictions(tokens, pred_labels):\n",
    "    \"\"\"\n",
    "    Organize the raw predictions into the required format.\n",
    "    This function may need to be customized based on your specific label mapping.\n",
    "\n",
    "    @param tokens: List of tokens in the sentence\n",
    "    @param pred_labels: Predicted labels for each token\n",
    "    @return: List with predicted labels (organized format)\n",
    "    \"\"\"\n",
    "    organized_predictions = []\n",
    "\n",
    "    # Iterate through tokens and predicted labels\n",
    "    for token, label in zip(tokens, pred_labels):\n",
    "        # Customize this part based on your specific label mapping\n",
    "        organized_predictions.append([label, ...])\n",
    "\n",
    "    return organized_predictions"
   ]
  },
  {
   "cell_type": "markdown",
   "metadata": {},
   "source": [
    "### Sample predictions"
   ]
  },
  {
   "cell_type": "code",
   "execution_count": 16,
   "metadata": {},
   "outputs": [
    {
     "name": "stdout",
     "output_type": "stream",
     "text": [
      "[['Method', Ellipsis], ['Qty', Ellipsis], ['Form', Ellipsis], ['EVERY', Ellipsis], ['Period', Ellipsis], ['PeriodUnit', Ellipsis], ['FOR', Ellipsis], ['Duration', Ellipsis], ['DurationUnit', Ellipsis]]\n"
     ]
    }
   ],
   "source": [
    "prediction = predict(\"take 2 tabs every 6 hours x 10 days\")\n",
    "print(prediction)"
   ]
  },
  {
   "cell_type": "code",
   "execution_count": 17,
   "metadata": {},
   "outputs": [
    {
     "name": "stdout",
     "output_type": "stream",
     "text": [
      "[['Qty', Ellipsis], ['Form', Ellipsis], ['FOR', Ellipsis], ['Duration', Ellipsis], ['DurationUnit', Ellipsis], ['AT', Ellipsis], ['WHEN', Ellipsis]]\n"
     ]
    }
   ],
   "source": [
    "prediction = predict(\"2 capsu for 10 day at bed\")\n",
    "print(prediction)"
   ]
  },
  {
   "cell_type": "code",
   "execution_count": 18,
   "metadata": {},
   "outputs": [
    {
     "name": "stdout",
     "output_type": "stream",
     "text": [
      "[['Qty', Ellipsis], ['Form', Ellipsis], ['FOR', Ellipsis], ['Duration', Ellipsis], ['DurationUnit', Ellipsis], ['AT', Ellipsis], ['WHEN', Ellipsis]]\n"
     ]
    }
   ],
   "source": [
    "prediction = predict(\"2 capsu for 10 days at bed\")\n",
    "print(prediction)"
   ]
  },
  {
   "cell_type": "code",
   "execution_count": 19,
   "metadata": {},
   "outputs": [
    {
     "name": "stdout",
     "output_type": "stream",
     "text": [
      "[['Duration', Ellipsis], ['DurationUnit', Ellipsis], ['Qty', Ellipsis], ['Form', Ellipsis], ['AT', Ellipsis], ['WHEN', Ellipsis]]\n"
     ]
    }
   ],
   "source": [
    "prediction = predict(\"5 days 2 tabs at bed\")\n",
    "print(prediction)"
   ]
  },
  {
   "cell_type": "code",
   "execution_count": 20,
   "metadata": {},
   "outputs": [
    {
     "name": "stdout",
     "output_type": "stream",
     "text": [
      "[['Qty', Ellipsis], ['Form', Ellipsis], ['QID', Ellipsis], ['FOR', Ellipsis], ['Duration', Ellipsis], ['DurationUnit', Ellipsis]]\n"
     ]
    }
   ],
   "source": [
    "prediction = predict(\"3 tabs qid x 10 weeks\")\n",
    "print(prediction)"
   ]
  },
  {
   "cell_type": "code",
   "execution_count": 21,
   "metadata": {},
   "outputs": [
    {
     "name": "stdout",
     "output_type": "stream",
     "text": [
      "[['Method', Ellipsis], ['Qty', Ellipsis], ['Form', Ellipsis]]\n"
     ]
    }
   ],
   "source": [
    "prediction = predict(\"x 30 days\")\n",
    "print(prediction)"
   ]
  },
  {
   "cell_type": "code",
   "execution_count": 22,
   "metadata": {},
   "outputs": [
    {
     "name": "stdout",
     "output_type": "stream",
     "text": [
      "[['Method', Ellipsis], ['Qty', Ellipsis], ['Form', Ellipsis]]\n"
     ]
    }
   ],
   "source": [
    "prediction = predict(\"x 20 months\")\n",
    "print(prediction)"
   ]
  },
  {
   "cell_type": "code",
   "execution_count": 23,
   "metadata": {},
   "outputs": [
    {
     "name": "stdout",
     "output_type": "stream",
     "text": [
      "[['Method', Ellipsis], ['Qty', Ellipsis], ['Form', Ellipsis], ['PO', Ellipsis], ['TID', Ellipsis], ['FOR', Ellipsis], ['Duration', Ellipsis], ['DurationUnit', Ellipsis]]\n"
     ]
    }
   ],
   "source": [
    "prediction = predict(\"take 2 tabs po tid for 10 days\")\n",
    "print(prediction)"
   ]
  },
  {
   "cell_type": "code",
   "execution_count": 24,
   "metadata": {},
   "outputs": [
    {
     "name": "stdout",
     "output_type": "stream",
     "text": [
      "[['Method', Ellipsis], ['Qty', Ellipsis], ['Form', Ellipsis], ['PO', Ellipsis], ['EVERY', Ellipsis], ['Period', Ellipsis], ['PeriodUnit', Ellipsis]]\n"
     ]
    }
   ],
   "source": [
    "prediction = predict(\"take 2 capsules po every 6 hours\")\n",
    "print(prediction)"
   ]
  },
  {
   "cell_type": "code",
   "execution_count": 25,
   "metadata": {},
   "outputs": [
    {
     "name": "stdout",
     "output_type": "stream",
     "text": [
      "[['Method', Ellipsis], ['Qty', Ellipsis], ['Form', Ellipsis], ['Frequency', Ellipsis], ['TID', Ellipsis]]\n"
     ]
    }
   ],
   "source": [
    "prediction = predict(\"inject 2 units pu tid\")\n",
    "print(prediction)"
   ]
  },
  {
   "cell_type": "code",
   "execution_count": 26,
   "metadata": {},
   "outputs": [
    {
     "name": "stdout",
     "output_type": "stream",
     "text": [
      "[['Method', Ellipsis], ['Qty', Ellipsis], ['Form', Ellipsis], ['Frequency', Ellipsis], ['Period', Ellipsis], ['PeriodUnit', Ellipsis]]\n"
     ]
    }
   ],
   "source": [
    "prediction = predict(\"swallow 3 caps tid by mouth\")\n",
    "print(prediction)"
   ]
  },
  {
   "cell_type": "code",
   "execution_count": 27,
   "metadata": {},
   "outputs": [
    {
     "name": "stdout",
     "output_type": "stream",
     "text": [
      "[['Method', Ellipsis], ['Qty', Ellipsis], ['Form', Ellipsis], ['Frequency', Ellipsis]]\n"
     ]
    }
   ],
   "source": [
    "prediction = predict(\"inject 3 units orally\")\n",
    "print(prediction)"
   ]
  },
  {
   "cell_type": "code",
   "execution_count": 28,
   "metadata": {},
   "outputs": [
    {
     "name": "stdout",
     "output_type": "stream",
     "text": [
      "[['QID', Ellipsis], ['Method', Ellipsis], ['Qty', Ellipsis], ['Form', Ellipsis], ['TID', Ellipsis]]\n"
     ]
    }
   ],
   "source": [
    "prediction = predict(\"orally take 3 tabs tid\")\n",
    "print(prediction)"
   ]
  },
  {
   "cell_type": "code",
   "execution_count": 29,
   "metadata": {},
   "outputs": [
    {
     "name": "stdout",
     "output_type": "stream",
     "text": [
      "[['Qty', Ellipsis], ['Form', Ellipsis], ['Method', Ellipsis], ['Qty', Ellipsis], ['Form', Ellipsis]]\n"
     ]
    }
   ],
   "source": [
    "prediction = predict(\"by mouth take three caps\")\n",
    "print(prediction)"
   ]
  },
  {
   "cell_type": "code",
   "execution_count": 30,
   "metadata": {},
   "outputs": [
    {
     "name": "stdout",
     "output_type": "stream",
     "text": [
      "[['Method', Ellipsis], ['Qty', Ellipsis], ['Form', Ellipsis], ['Method', Ellipsis], ['Qty', Ellipsis], ['Form', Ellipsis], ['Period', Ellipsis], ['PeriodUnit', Ellipsis], ['FOR', Ellipsis], ['Duration', Ellipsis], ['DurationUnit', Ellipsis], ['AT', Ellipsis], ['WHEN', Ellipsis]]\n"
     ]
    }
   ],
   "source": [
    "prediction = predict(\"take 3 tabs orally three times a day for 10 days at bedtime\")\n",
    "print(prediction)"
   ]
  },
  {
   "cell_type": "code",
   "execution_count": 31,
   "metadata": {},
   "outputs": [
    {
     "name": "stdout",
     "output_type": "stream",
     "text": [
      "[['Method', Ellipsis], ['Qty', Ellipsis], ['Form', Ellipsis], ['Frequency', Ellipsis], ['Period', Ellipsis], ['FOR', Ellipsis], ['Duration', Ellipsis], ['DurationUnit', Ellipsis], ['AT', Ellipsis], ['WHEN', Ellipsis]]\n"
     ]
    }
   ],
   "source": [
    "prediction = predict(\"take 3 tabs orally bid for 10 days at bedtime\")\n",
    "print(prediction)"
   ]
  },
  {
   "cell_type": "code",
   "execution_count": 32,
   "metadata": {},
   "outputs": [
    {
     "name": "stdout",
     "output_type": "stream",
     "text": [
      "[['Method', Ellipsis], ['Qty', Ellipsis], ['Form', Ellipsis], ['Frequency', Ellipsis], ['Period', Ellipsis], ['AT', Ellipsis], ['WHEN', Ellipsis]]\n"
     ]
    }
   ],
   "source": [
    "prediction = predict(\"take 3 tabs bid orally at bed\")\n",
    "print(prediction)"
   ]
  },
  {
   "cell_type": "code",
   "execution_count": 33,
   "metadata": {},
   "outputs": [
    {
     "name": "stdout",
     "output_type": "stream",
     "text": [
      "[['Method', Ellipsis], ['Qty', Ellipsis], ['Form', Ellipsis], ['Frequency', Ellipsis], ['Period', Ellipsis], ['PeriodUnit', Ellipsis]]\n"
     ]
    }
   ],
   "source": [
    "prediction = predict(\"take 10 capsules by mouth qid\")\n",
    "print(prediction)"
   ]
  },
  {
   "cell_type": "code",
   "execution_count": 34,
   "metadata": {},
   "outputs": [
    {
     "name": "stdout",
     "output_type": "stream",
     "text": [
      "[['Method', Ellipsis], ['Qty', Ellipsis], ['Form', Ellipsis], ['Frequency', Ellipsis], ['QID', Ellipsis], ['Method', Ellipsis], ['Qty', Ellipsis], ['Form', Ellipsis]]\n"
     ]
    }
   ],
   "source": [
    "prediction = predict(\"inject 10 units orally qid x 3 months\")\n",
    "print(prediction)"
   ]
  },
  {
   "cell_type": "code",
   "execution_count": 35,
   "metadata": {},
   "outputs": [
    {
     "name": "stdout",
     "output_type": "stream",
     "text": [
      "[['Method', Ellipsis], ['Qty', Ellipsis], ['Form', Ellipsis], ['Frequency', Ellipsis], ['Period', Ellipsis], ['PeriodUnit', Ellipsis], ['FOR', Ellipsis], ['Duration', Ellipsis], ['DurationUnit', Ellipsis], ['Method', Ellipsis], ['Qty', Ellipsis], ['Form', Ellipsis], ['AND', Ellipsis], ['EVERY', Ellipsis], ['Period', Ellipsis], ['PeriodUnit', Ellipsis]]\n"
     ]
    }
   ],
   "source": [
    "prediction = predict(\"please take 2 tablets per day for a month in the morning and evening each day\")\n",
    "print(prediction)"
   ]
  },
  {
   "cell_type": "code",
   "execution_count": 36,
   "metadata": {},
   "outputs": [
    {
     "name": "stdout",
     "output_type": "stream",
     "text": [
      "[['Method', Ellipsis], ['Qty', Ellipsis], ['Form', Ellipsis], ['Frequency', Ellipsis]]\n"
     ]
    }
   ],
   "source": [
    "prediction = predict(\"Amoxcicillin QID 30 tablets\")\n",
    "print(prediction)"
   ]
  },
  {
   "cell_type": "code",
   "execution_count": 37,
   "metadata": {},
   "outputs": [
    {
     "name": "stdout",
     "output_type": "stream",
     "text": [
      "[['Method', Ellipsis], ['Qty', Ellipsis], ['Form', Ellipsis], ['Frequency', Ellipsis], ['FOR', Ellipsis], ['Duration', Ellipsis], ['DurationUnit', Ellipsis], ['Qty', Ellipsis], ['Form', Ellipsis]]\n"
     ]
    }
   ],
   "source": [
    "prediction = predict(\"take 3 tabs TID for 90 days with food\")\n",
    "print(prediction)"
   ]
  },
  {
   "cell_type": "code",
   "execution_count": 38,
   "metadata": {},
   "outputs": [
    {
     "name": "stdout",
     "output_type": "stream",
     "text": [
      "[['Qty', Ellipsis], ['Form', Ellipsis], ['Method', Ellipsis], ['Qty', Ellipsis], ['Form', Ellipsis], ['Period', Ellipsis], ['PeriodUnit', Ellipsis], ['FOR', Ellipsis], ['Duration', Ellipsis], ['DurationUnit', Ellipsis]]\n"
     ]
    }
   ],
   "source": [
    "prediction = predict(\"with food take 3 tablets per day for 90 days\")\n",
    "print(prediction)"
   ]
  },
  {
   "cell_type": "code",
   "execution_count": 39,
   "metadata": {},
   "outputs": [
    {
     "name": "stdout",
     "output_type": "stream",
     "text": [
      "[['Qty', Ellipsis], ['Form', Ellipsis], ['Method', Ellipsis], ['Qty', Ellipsis], ['Form', Ellipsis], ['Frequency', Ellipsis], ['Period', Ellipsis], ['FOR', Ellipsis], ['Duration', Ellipsis], ['DurationUnit', Ellipsis]]\n"
     ]
    }
   ],
   "source": [
    "prediction = predict(\"with food take 3 tablets per week for 90 weeks\")\n",
    "print(prediction)"
   ]
  },
  {
   "cell_type": "code",
   "execution_count": 40,
   "metadata": {},
   "outputs": [
    {
     "name": "stdout",
     "output_type": "stream",
     "text": [
      "[['Method', Ellipsis], ['Qty', Ellipsis], ['Form', Ellipsis]]\n"
     ]
    }
   ],
   "source": [
    "prediction = predict(\"take 2-4 tabs\")\n",
    "print(prediction)"
   ]
  },
  {
   "cell_type": "code",
   "execution_count": 41,
   "metadata": {},
   "outputs": [
    {
     "name": "stdout",
     "output_type": "stream",
     "text": [
      "[['Method', Ellipsis], ['Qty', Ellipsis], ['TO', Ellipsis], ['Qty', Ellipsis], ['Form', Ellipsis]]\n"
     ]
    }
   ],
   "source": [
    "prediction = predict(\"take 2 to 4 tabs\")\n",
    "print(prediction)"
   ]
  },
  {
   "cell_type": "code",
   "execution_count": 42,
   "metadata": {},
   "outputs": [
    {
     "name": "stdout",
     "output_type": "stream",
     "text": [
      "[['Method', Ellipsis], ['Qty', Ellipsis], ['TO', Ellipsis], ['Qty', Ellipsis], ['Form', Ellipsis]]\n"
     ]
    }
   ],
   "source": [
    "prediction = predict(\"take two to four tabs\")\n",
    "print(prediction)"
   ]
  },
  {
   "cell_type": "code",
   "execution_count": 43,
   "metadata": {},
   "outputs": [
    {
     "name": "stdout",
     "output_type": "stream",
     "text": [
      "[['Method', Ellipsis], ['Qty', Ellipsis], ['Form', Ellipsis], ['FOR', Ellipsis], ['Duration', Ellipsis], ['TO', Ellipsis], ['PeriodMax', Ellipsis], ['PeriodUnit', Ellipsis]]\n"
     ]
    }
   ],
   "source": [
    "prediction = predict(\"take 2-4 tabs for 8 to 9 days\")\n",
    "print(prediction)"
   ]
  },
  {
   "cell_type": "code",
   "execution_count": 44,
   "metadata": {},
   "outputs": [
    {
     "name": "stdout",
     "output_type": "stream",
     "text": [
      "[['Method', Ellipsis], ['Qty', Ellipsis], ['Form', Ellipsis], ['EVERY', Ellipsis], ['Period', Ellipsis], ['TO', Ellipsis], ['PeriodMax', Ellipsis], ['PeriodUnit', Ellipsis]]\n"
     ]
    }
   ],
   "source": [
    "prediction = predict(\"take 20 tabs every 6 to 8 days\")\n",
    "print(prediction)"
   ]
  },
  {
   "cell_type": "code",
   "execution_count": 45,
   "metadata": {},
   "outputs": [
    {
     "name": "stdout",
     "output_type": "stream",
     "text": [
      "[['Method', Ellipsis], ['Qty', Ellipsis], ['Form', Ellipsis], ['EVERY', Ellipsis], ['Period', Ellipsis], ['TO', Ellipsis], ['PeriodMax', Ellipsis], ['PeriodUnit', Ellipsis]]\n"
     ]
    }
   ],
   "source": [
    "prediction = predict(\"take 2 tabs every 4 to 6 days\")\n",
    "print(prediction)"
   ]
  },
  {
   "cell_type": "code",
   "execution_count": 46,
   "metadata": {},
   "outputs": [
    {
     "name": "stdout",
     "output_type": "stream",
     "text": [
      "[['Method', Ellipsis], ['Qty', Ellipsis], ['Form', Ellipsis], ['EVERY', Ellipsis], ['Period', Ellipsis], ['TO', Ellipsis], ['PeriodMax', Ellipsis], ['PeriodUnit', Ellipsis]]\n"
     ]
    }
   ],
   "source": [
    "prediction = predict(\"take 2 tabs every 2 to 10 weeks\")\n",
    "print(prediction)"
   ]
  },
  {
   "cell_type": "code",
   "execution_count": 47,
   "metadata": {},
   "outputs": [
    {
     "name": "stdout",
     "output_type": "stream",
     "text": [
      "[['Method', Ellipsis], ['Qty', Ellipsis], ['Form', Ellipsis], ['EVERY', Ellipsis], ['Period', Ellipsis], ['TO', Ellipsis], ['PeriodMax', Ellipsis], ['PeriodUnit', Ellipsis]]\n"
     ]
    }
   ],
   "source": [
    "prediction = predict(\"take 2 tabs every 4 to 6 days\")\n",
    "print(prediction)"
   ]
  },
  {
   "cell_type": "code",
   "execution_count": 48,
   "metadata": {},
   "outputs": [
    {
     "name": "stdout",
     "output_type": "stream",
     "text": [
      "[['Method', Ellipsis], ['Qty', Ellipsis], ['Form', Ellipsis], ['EVERY', Ellipsis], ['Period', Ellipsis], ['TO', Ellipsis], ['PeriodMax', Ellipsis], ['PeriodUnit', Ellipsis]]\n"
     ]
    }
   ],
   "source": [
    "prediction = predict(\"take 2 tabs every 2 to 10 months\")\n",
    "print(prediction)"
   ]
  },
  {
   "cell_type": "code",
   "execution_count": 49,
   "metadata": {},
   "outputs": [
    {
     "name": "stdout",
     "output_type": "stream",
     "text": [
      "[['EVERY', Ellipsis], ['Period', Ellipsis], ['PeriodUnit', Ellipsis]]\n"
     ]
    }
   ],
   "source": [
    "prediction = predict(\"every 60 mins\")\n",
    "print(prediction)"
   ]
  },
  {
   "cell_type": "code",
   "execution_count": 50,
   "metadata": {},
   "outputs": [
    {
     "name": "stdout",
     "output_type": "stream",
     "text": [
      "[['EVERY', Ellipsis], ['Period', Ellipsis], ['PeriodUnit', Ellipsis]]\n"
     ]
    }
   ],
   "source": [
    "prediction = predict(\"every 10 mins\")\n",
    "print(prediction)"
   ]
  },
  {
   "cell_type": "code",
   "execution_count": 51,
   "metadata": {},
   "outputs": [
    {
     "name": "stdout",
     "output_type": "stream",
     "text": [
      "[['EVERY', Ellipsis], ['Period', Ellipsis], ['TO', Ellipsis], ['PeriodMax', Ellipsis], ['PeriodUnit', Ellipsis]]\n"
     ]
    }
   ],
   "source": [
    "prediction = predict(\"every two to four months\")\n",
    "print(prediction)"
   ]
  },
  {
   "cell_type": "code",
   "execution_count": 52,
   "metadata": {},
   "outputs": [
    {
     "name": "stdout",
     "output_type": "stream",
     "text": [
      "[['Method', Ellipsis], ['Qty', Ellipsis], ['Form', Ellipsis], ['EVERY', Ellipsis], ['Period', Ellipsis], ['TO', Ellipsis], ['PeriodMax', Ellipsis], ['PeriodUnit', Ellipsis]]\n"
     ]
    }
   ],
   "source": [
    "prediction = predict(\"take 2 tabs every 3 to 4 days\")\n",
    "print(prediction)"
   ]
  },
  {
   "cell_type": "code",
   "execution_count": 53,
   "metadata": {},
   "outputs": [
    {
     "name": "stdout",
     "output_type": "stream",
     "text": [
      "[['EVERY', Ellipsis], ['Period', Ellipsis], ['TO', Ellipsis], ['PeriodMax', Ellipsis], ['PeriodUnit', Ellipsis], ['Method', Ellipsis], ['Qty', Ellipsis], ['Form', Ellipsis]]\n"
     ]
    }
   ],
   "source": [
    "prediction = predict(\"every 3 to 4 days take 20 tabs\")\n",
    "print(prediction)"
   ]
  },
  {
   "cell_type": "code",
   "execution_count": 54,
   "metadata": {},
   "outputs": [
    {
     "name": "stdout",
     "output_type": "stream",
     "text": [
      "[['Qty', Ellipsis], ['Form', Ellipsis], ['EVERY', Ellipsis], ['Period', Ellipsis], ['PeriodUnit', Ellipsis], ['Method', Ellipsis], ['Qty', Ellipsis], ['Form', Ellipsis]]\n"
     ]
    }
   ],
   "source": [
    "prediction = predict(\"once in every 3 days take 3 tabs\")\n",
    "print(prediction)"
   ]
  },
  {
   "cell_type": "code",
   "execution_count": 55,
   "metadata": {},
   "outputs": [
    {
     "name": "stdout",
     "output_type": "stream",
     "text": [
      "[['Method', Ellipsis], ['Qty', Ellipsis], ['Form', Ellipsis], ['Frequency', Ellipsis], ['Period', Ellipsis], ['EVERY', Ellipsis], ['Period', Ellipsis], ['PeriodUnit', Ellipsis]]\n"
     ]
    }
   ],
   "source": [
    "prediction = predict(\"take 3 tabs once in every 3 days\")\n",
    "print(prediction)"
   ]
  },
  {
   "cell_type": "code",
   "execution_count": 56,
   "metadata": {},
   "outputs": [
    {
     "name": "stdout",
     "output_type": "stream",
     "text": [
      "[['QID', Ellipsis], ['Method', Ellipsis], ['Qty', Ellipsis], ['Form', Ellipsis], ['EVERY', Ellipsis], ['Period', Ellipsis], ['PeriodUnit', Ellipsis]]\n"
     ]
    }
   ],
   "source": [
    "prediction = predict(\"orally take 20 tabs every 4-6 weeks\")\n",
    "print(prediction)"
   ]
  },
  {
   "cell_type": "code",
   "execution_count": 57,
   "metadata": {},
   "outputs": [
    {
     "name": "stdout",
     "output_type": "stream",
     "text": [
      "[['Qty', Ellipsis], ['Form', Ellipsis], ['FOR', Ellipsis], ['Duration', Ellipsis], ['DurationUnit', Ellipsis]]\n"
     ]
    }
   ],
   "source": [
    "prediction = predict(\"10 tabs x 2 days\")\n",
    "print(prediction)"
   ]
  },
  {
   "cell_type": "code",
   "execution_count": 58,
   "metadata": {},
   "outputs": [
    {
     "name": "stdout",
     "output_type": "stream",
     "text": [
      "[['Qty', Ellipsis], ['Form', Ellipsis], ['FOR', Ellipsis], ['Duration', Ellipsis], ['DurationUnit', Ellipsis]]\n"
     ]
    }
   ],
   "source": [
    "prediction = predict(\"3 capsule x 15 days\")\n",
    "print(prediction)"
   ]
  },
  {
   "cell_type": "code",
   "execution_count": 59,
   "metadata": {},
   "outputs": [
    {
     "name": "stdout",
     "output_type": "stream",
     "text": [
      "[['Qty', Ellipsis], ['Form', Ellipsis]]\n"
     ]
    }
   ],
   "source": [
    "prediction = predict(\"10 tabs\")\n",
    "print(prediction)"
   ]
  }
 ],
 "metadata": {
  "kernelspec": {
   "display_name": "Python 3 (ipykernel)",
   "language": "python",
   "name": "python3"
  },
  "language_info": {
   "codemirror_mode": {
    "name": "ipython",
    "version": 3
   },
   "file_extension": ".py",
   "mimetype": "text/x-python",
   "name": "python",
   "nbconvert_exporter": "python",
   "pygments_lexer": "ipython3",
   "version": "3.11.4"
  }
 },
 "nbformat": 4,
 "nbformat_minor": 2
}
